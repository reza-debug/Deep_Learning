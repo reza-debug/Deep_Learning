{
  "nbformat": 4,
  "nbformat_minor": 0,
  "metadata": {
    "colab": {
      "provenance": [],
      "gpuType": "T4",
      "authorship_tag": "ABX9TyNgTdXKT8QnMtTM1xWJxt9b",
      "include_colab_link": true
    },
    "kernelspec": {
      "name": "python3",
      "display_name": "Python 3"
    },
    "language_info": {
      "name": "python"
    },
    "accelerator": "GPU"
  },
  "cells": [
    {
      "cell_type": "markdown",
      "metadata": {
        "id": "view-in-github",
        "colab_type": "text"
      },
      "source": [
        "<a href=\"https://colab.research.google.com/github/reza-debug/Deep_Learning/blob/main/neural_or_deep.ipynb\" target=\"_parent\"><img src=\"https://colab.research.google.com/assets/colab-badge.svg\" alt=\"Open In Colab\"/></a>"
      ]
    },
    {
      "cell_type": "code",
      "execution_count": 1,
      "metadata": {
        "id": "QX0-FU26vxSv"
      },
      "outputs": [],
      "source": [
        "#make 2model neural network\n",
        "#model1 1HL 1 out\n",
        "#model2 4HL 1 out\n",
        "#compire 2 model\n"
      ]
    },
    {
      "cell_type": "code",
      "source": [
        "import tensorflow as tf\n",
        "from tensorflow import keras\n",
        "import numpy as np\n",
        "import matplotlib.pyplot as plt\n"
      ],
      "metadata": {
        "id": "uyVoPfnDwJyk"
      },
      "execution_count": 2,
      "outputs": []
    },
    {
      "cell_type": "code",
      "source": [
        "#data generation\n",
        "x = np.arange(-80,81,0.5)\n",
        "#y=x^2 + 5x + 3\n",
        "y= x**2 + 5*x + 3\n"
      ],
      "metadata": {
        "id": "MbOrNyBTwkBO"
      },
      "execution_count": 3,
      "outputs": []
    },
    {
      "cell_type": "code",
      "source": [
        "#train test split\n",
        "from sklearn.model_selection import train_test_split\n",
        "x_train, x_test,y_train, y_test = train_test_split (x,y,test_size=0.2)\n",
        "#20% baraye test\n"
      ],
      "metadata": {
        "id": "tufyNV6Oye-n"
      },
      "execution_count": 4,
      "outputs": []
    },
    {
      "cell_type": "code",
      "source": [
        "from os import access\n",
        "#model1\n",
        "model1 = keras.Sequential()\n",
        "model1.add(keras.layers.Dense(units=1024,activation='relu',input_shape=[1]))\n",
        "model1.add(keras.layers.Dense(units=1))"
      ],
      "metadata": {
        "id": "zu2-6eO3xJga"
      },
      "execution_count": 5,
      "outputs": []
    },
    {
      "cell_type": "code",
      "source": [
        "#compile\n",
        "model1.compile(optimizer='adam',loss=\"mean_squared_error\")\n"
      ],
      "metadata": {
        "id": "4rR0gNfqzI_w"
      },
      "execution_count": 6,
      "outputs": []
    },
    {
      "cell_type": "code",
      "source": [
        "model1.summary()"
      ],
      "metadata": {
        "colab": {
          "base_uri": "https://localhost:8080/"
        },
        "id": "IC5gs6VT0ZJ4",
        "outputId": "4cf16160-ad1d-4a44-9d0f-dc4b1cba8044"
      },
      "execution_count": 7,
      "outputs": [
        {
          "output_type": "stream",
          "name": "stdout",
          "text": [
            "Model: \"sequential\"\n",
            "_________________________________________________________________\n",
            " Layer (type)                Output Shape              Param #   \n",
            "=================================================================\n",
            " dense (Dense)               (None, 1024)              2048      \n",
            "                                                                 \n",
            " dense_1 (Dense)             (None, 1)                 1025      \n",
            "                                                                 \n",
            "=================================================================\n",
            "Total params: 3073 (12.00 KB)\n",
            "Trainable params: 3073 (12.00 KB)\n",
            "Non-trainable params: 0 (0.00 Byte)\n",
            "_________________________________________________________________\n"
          ]
        }
      ]
    },
    {
      "cell_type": "code",
      "source": [
        "#history az natayeje in model\n",
        "hist1 = model1.fit(x_train,y_train,batch_size=64,epochs=100,validation_data=(x_test,y_test))"
      ],
      "metadata": {
        "colab": {
          "base_uri": "https://localhost:8080/"
        },
        "id": "yRFIAx-o0b_l",
        "outputId": "7b9faf8f-6a12-4504-a43b-05c49f144bd1"
      },
      "execution_count": 8,
      "outputs": [
        {
          "output_type": "stream",
          "name": "stdout",
          "text": [
            "Epoch 1/100\n",
            "5/5 [==============================] - 6s 117ms/step - loss: 8545496.0000 - val_loss: 8118565.5000\n",
            "Epoch 2/100\n",
            "5/5 [==============================] - 0s 20ms/step - loss: 8496793.0000 - val_loss: 8073252.5000\n",
            "Epoch 3/100\n",
            "5/5 [==============================] - 0s 26ms/step - loss: 8449268.0000 - val_loss: 8028829.5000\n",
            "Epoch 4/100\n",
            "5/5 [==============================] - 0s 19ms/step - loss: 8401552.0000 - val_loss: 7987027.0000\n",
            "Epoch 5/100\n",
            "5/5 [==============================] - 0s 31ms/step - loss: 8358766.5000 - val_loss: 7945258.5000\n",
            "Epoch 6/100\n",
            "5/5 [==============================] - 0s 48ms/step - loss: 8313806.5000 - val_loss: 7904788.0000\n",
            "Epoch 7/100\n",
            "5/5 [==============================] - 0s 32ms/step - loss: 8272517.0000 - val_loss: 7864019.5000\n",
            "Epoch 8/100\n",
            "5/5 [==============================] - 0s 23ms/step - loss: 8227826.0000 - val_loss: 7819420.5000\n",
            "Epoch 9/100\n",
            "5/5 [==============================] - 0s 20ms/step - loss: 8180556.5000 - val_loss: 7769580.0000\n",
            "Epoch 10/100\n",
            "5/5 [==============================] - 0s 40ms/step - loss: 8125747.5000 - val_loss: 7713985.0000\n",
            "Epoch 11/100\n",
            "5/5 [==============================] - 0s 33ms/step - loss: 8068283.5000 - val_loss: 7655415.5000\n",
            "Epoch 12/100\n",
            "5/5 [==============================] - 0s 30ms/step - loss: 8008351.5000 - val_loss: 7596360.5000\n",
            "Epoch 13/100\n",
            "5/5 [==============================] - 0s 46ms/step - loss: 7946271.5000 - val_loss: 7537708.0000\n",
            "Epoch 14/100\n",
            "5/5 [==============================] - 0s 25ms/step - loss: 7883743.5000 - val_loss: 7475827.5000\n",
            "Epoch 15/100\n",
            "5/5 [==============================] - 0s 19ms/step - loss: 7819231.5000 - val_loss: 7404943.5000\n",
            "Epoch 16/100\n",
            "5/5 [==============================] - 0s 38ms/step - loss: 7741083.0000 - val_loss: 7336427.5000\n",
            "Epoch 17/100\n",
            "5/5 [==============================] - 0s 26ms/step - loss: 7667532.0000 - val_loss: 7263871.5000\n",
            "Epoch 18/100\n",
            "5/5 [==============================] - 0s 23ms/step - loss: 7587514.5000 - val_loss: 7179471.0000\n",
            "Epoch 19/100\n",
            "5/5 [==============================] - 0s 28ms/step - loss: 7499500.0000 - val_loss: 7090559.0000\n",
            "Epoch 20/100\n",
            "5/5 [==============================] - 0s 33ms/step - loss: 7404072.0000 - val_loss: 6994416.0000\n",
            "Epoch 21/100\n",
            "5/5 [==============================] - 0s 43ms/step - loss: 7307093.5000 - val_loss: 6900473.0000\n",
            "Epoch 22/100\n",
            "5/5 [==============================] - 0s 34ms/step - loss: 7203511.0000 - val_loss: 6799866.0000\n",
            "Epoch 23/100\n",
            "5/5 [==============================] - 0s 17ms/step - loss: 7102367.5000 - val_loss: 6703652.5000\n",
            "Epoch 24/100\n",
            "5/5 [==============================] - 0s 19ms/step - loss: 6999325.5000 - val_loss: 6605102.0000\n",
            "Epoch 25/100\n",
            "5/5 [==============================] - 0s 43ms/step - loss: 6894947.5000 - val_loss: 6493251.5000\n",
            "Epoch 26/100\n",
            "5/5 [==============================] - 0s 33ms/step - loss: 6782083.0000 - val_loss: 6386195.5000\n",
            "Epoch 27/100\n",
            "5/5 [==============================] - 0s 29ms/step - loss: 6671999.0000 - val_loss: 6276834.0000\n",
            "Epoch 28/100\n",
            "5/5 [==============================] - 0s 44ms/step - loss: 6561056.0000 - val_loss: 6167478.5000\n",
            "Epoch 29/100\n",
            "5/5 [==============================] - 0s 38ms/step - loss: 6445090.0000 - val_loss: 6052699.5000\n",
            "Epoch 30/100\n",
            "5/5 [==============================] - 0s 35ms/step - loss: 6317885.5000 - val_loss: 5920903.5000\n",
            "Epoch 31/100\n",
            "5/5 [==============================] - 0s 30ms/step - loss: 6179613.0000 - val_loss: 5779153.5000\n",
            "Epoch 32/100\n",
            "5/5 [==============================] - 0s 31ms/step - loss: 6030594.5000 - val_loss: 5641558.5000\n",
            "Epoch 33/100\n",
            "5/5 [==============================] - 0s 53ms/step - loss: 5883878.0000 - val_loss: 5499175.0000\n",
            "Epoch 34/100\n",
            "5/5 [==============================] - 0s 30ms/step - loss: 5740355.0000 - val_loss: 5354035.5000\n",
            "Epoch 35/100\n",
            "5/5 [==============================] - 0s 51ms/step - loss: 5589566.5000 - val_loss: 5209541.0000\n",
            "Epoch 36/100\n",
            "5/5 [==============================] - 0s 43ms/step - loss: 5436047.0000 - val_loss: 5064344.0000\n",
            "Epoch 37/100\n",
            "5/5 [==============================] - 0s 27ms/step - loss: 5276078.5000 - val_loss: 4905586.5000\n",
            "Epoch 38/100\n",
            "5/5 [==============================] - 0s 59ms/step - loss: 5125866.0000 - val_loss: 4762592.5000\n",
            "Epoch 39/100\n",
            "5/5 [==============================] - 0s 53ms/step - loss: 4979547.5000 - val_loss: 4626951.0000\n",
            "Epoch 40/100\n",
            "5/5 [==============================] - 0s 54ms/step - loss: 4836698.0000 - val_loss: 4488281.5000\n",
            "Epoch 41/100\n",
            "5/5 [==============================] - 0s 38ms/step - loss: 4693625.0000 - val_loss: 4352370.5000\n",
            "Epoch 42/100\n",
            "5/5 [==============================] - 0s 26ms/step - loss: 4544001.0000 - val_loss: 4203941.5000\n",
            "Epoch 43/100\n",
            "5/5 [==============================] - 0s 33ms/step - loss: 4387624.5000 - val_loss: 4059047.2500\n",
            "Epoch 44/100\n",
            "5/5 [==============================] - 0s 30ms/step - loss: 4236654.5000 - val_loss: 3917692.5000\n",
            "Epoch 45/100\n",
            "5/5 [==============================] - 0s 49ms/step - loss: 4079794.0000 - val_loss: 3760338.7500\n",
            "Epoch 46/100\n",
            "5/5 [==============================] - 0s 35ms/step - loss: 3901234.0000 - val_loss: 3598211.0000\n",
            "Epoch 47/100\n",
            "5/5 [==============================] - 0s 27ms/step - loss: 3741568.0000 - val_loss: 3453641.5000\n",
            "Epoch 48/100\n",
            "5/5 [==============================] - 0s 32ms/step - loss: 3590491.0000 - val_loss: 3314129.5000\n",
            "Epoch 49/100\n",
            "5/5 [==============================] - 0s 21ms/step - loss: 3444515.7500 - val_loss: 3181164.2500\n",
            "Epoch 50/100\n",
            "5/5 [==============================] - 0s 37ms/step - loss: 3307469.7500 - val_loss: 3046277.7500\n",
            "Epoch 51/100\n",
            "5/5 [==============================] - 0s 32ms/step - loss: 3166791.0000 - val_loss: 2924557.5000\n",
            "Epoch 52/100\n",
            "5/5 [==============================] - 0s 45ms/step - loss: 3042800.7500 - val_loss: 2806421.0000\n",
            "Epoch 53/100\n",
            "5/5 [==============================] - 0s 39ms/step - loss: 2921576.5000 - val_loss: 2694818.2500\n",
            "Epoch 54/100\n",
            "5/5 [==============================] - 0s 32ms/step - loss: 2799171.5000 - val_loss: 2590479.5000\n",
            "Epoch 55/100\n",
            "5/5 [==============================] - 0s 33ms/step - loss: 2692580.2500 - val_loss: 2483337.7500\n",
            "Epoch 56/100\n",
            "5/5 [==============================] - 0s 22ms/step - loss: 2563763.2500 - val_loss: 2364307.7500\n",
            "Epoch 57/100\n",
            "5/5 [==============================] - 0s 31ms/step - loss: 2434651.7500 - val_loss: 2231435.5000\n",
            "Epoch 58/100\n",
            "5/5 [==============================] - 0s 18ms/step - loss: 2287625.7500 - val_loss: 2100431.7500\n",
            "Epoch 59/100\n",
            "5/5 [==============================] - 0s 18ms/step - loss: 2158517.2500 - val_loss: 1989529.1250\n",
            "Epoch 60/100\n",
            "5/5 [==============================] - 0s 33ms/step - loss: 2041825.0000 - val_loss: 1886814.3750\n",
            "Epoch 61/100\n",
            "5/5 [==============================] - 0s 17ms/step - loss: 1928836.2500 - val_loss: 1780312.1250\n",
            "Epoch 62/100\n",
            "5/5 [==============================] - 0s 13ms/step - loss: 1812892.0000 - val_loss: 1674584.0000\n",
            "Epoch 63/100\n",
            "5/5 [==============================] - 0s 25ms/step - loss: 1695518.8750 - val_loss: 1564993.7500\n",
            "Epoch 64/100\n",
            "5/5 [==============================] - 0s 17ms/step - loss: 1574397.0000 - val_loss: 1464327.5000\n",
            "Epoch 65/100\n",
            "5/5 [==============================] - 0s 16ms/step - loss: 1472991.3750 - val_loss: 1383003.0000\n",
            "Epoch 66/100\n",
            "5/5 [==============================] - 0s 16ms/step - loss: 1385843.7500 - val_loss: 1313606.1250\n",
            "Epoch 67/100\n",
            "5/5 [==============================] - 0s 24ms/step - loss: 1314201.0000 - val_loss: 1255513.5000\n",
            "Epoch 68/100\n",
            "5/5 [==============================] - 0s 26ms/step - loss: 1257755.8750 - val_loss: 1199390.6250\n",
            "Epoch 69/100\n",
            "5/5 [==============================] - 0s 22ms/step - loss: 1195756.3750 - val_loss: 1135241.5000\n",
            "Epoch 70/100\n",
            "5/5 [==============================] - 0s 19ms/step - loss: 1128569.0000 - val_loss: 1069584.8750\n",
            "Epoch 71/100\n",
            "5/5 [==============================] - 0s 36ms/step - loss: 1060282.3750 - val_loss: 1010203.5000\n",
            "Epoch 72/100\n",
            "5/5 [==============================] - 0s 9ms/step - loss: 999421.9375 - val_loss: 965118.3125\n",
            "Epoch 73/100\n",
            "5/5 [==============================] - 0s 9ms/step - loss: 956756.3750 - val_loss: 927548.3750\n",
            "Epoch 74/100\n",
            "5/5 [==============================] - 0s 13ms/step - loss: 918986.6875 - val_loss: 896802.5625\n",
            "Epoch 75/100\n",
            "5/5 [==============================] - 0s 8ms/step - loss: 889063.1875 - val_loss: 870321.5625\n",
            "Epoch 76/100\n",
            "5/5 [==============================] - 0s 9ms/step - loss: 861107.2500 - val_loss: 843436.8750\n",
            "Epoch 77/100\n",
            "5/5 [==============================] - 0s 9ms/step - loss: 830026.1875 - val_loss: 808906.2500\n",
            "Epoch 78/100\n",
            "5/5 [==============================] - 0s 9ms/step - loss: 794486.3750 - val_loss: 778646.3125\n",
            "Epoch 79/100\n",
            "5/5 [==============================] - 0s 9ms/step - loss: 761265.3125 - val_loss: 744552.4375\n",
            "Epoch 80/100\n",
            "5/5 [==============================] - 0s 9ms/step - loss: 731454.3125 - val_loss: 720740.5625\n",
            "Epoch 81/100\n",
            "5/5 [==============================] - 0s 9ms/step - loss: 710981.3750 - val_loss: 701370.6875\n",
            "Epoch 82/100\n",
            "5/5 [==============================] - 0s 9ms/step - loss: 692875.8125 - val_loss: 684248.6250\n",
            "Epoch 83/100\n",
            "5/5 [==============================] - 0s 9ms/step - loss: 674405.8750 - val_loss: 669972.1875\n",
            "Epoch 84/100\n",
            "5/5 [==============================] - 0s 9ms/step - loss: 660443.5625 - val_loss: 650337.4375\n",
            "Epoch 85/100\n",
            "5/5 [==============================] - 0s 9ms/step - loss: 642808.4375 - val_loss: 631496.3750\n",
            "Epoch 86/100\n",
            "5/5 [==============================] - 0s 9ms/step - loss: 628448.8750 - val_loss: 619676.1250\n",
            "Epoch 87/100\n",
            "5/5 [==============================] - 0s 9ms/step - loss: 618624.8750 - val_loss: 610734.4375\n",
            "Epoch 88/100\n",
            "5/5 [==============================] - 0s 9ms/step - loss: 609957.5000 - val_loss: 601239.1875\n",
            "Epoch 89/100\n",
            "5/5 [==============================] - 0s 9ms/step - loss: 599956.1875 - val_loss: 593718.7500\n",
            "Epoch 90/100\n",
            "5/5 [==============================] - 0s 8ms/step - loss: 592784.6875 - val_loss: 588609.6250\n",
            "Epoch 91/100\n",
            "5/5 [==============================] - 0s 9ms/step - loss: 588402.3750 - val_loss: 585154.8750\n",
            "Epoch 92/100\n",
            "5/5 [==============================] - 0s 11ms/step - loss: 585478.5000 - val_loss: 582406.5000\n",
            "Epoch 93/100\n",
            "5/5 [==============================] - 0s 10ms/step - loss: 582940.3125 - val_loss: 579191.6250\n",
            "Epoch 94/100\n",
            "5/5 [==============================] - 0s 14ms/step - loss: 580105.7500 - val_loss: 573766.6250\n",
            "Epoch 95/100\n",
            "5/5 [==============================] - 0s 9ms/step - loss: 574088.2500 - val_loss: 568132.6250\n",
            "Epoch 96/100\n",
            "5/5 [==============================] - 0s 10ms/step - loss: 569569.1875 - val_loss: 565063.6875\n",
            "Epoch 97/100\n",
            "5/5 [==============================] - 0s 8ms/step - loss: 567378.6250 - val_loss: 563361.0625\n",
            "Epoch 98/100\n",
            "5/5 [==============================] - 0s 9ms/step - loss: 565739.9375 - val_loss: 562245.2500\n",
            "Epoch 99/100\n",
            "5/5 [==============================] - 0s 9ms/step - loss: 564816.8125 - val_loss: 560885.7500\n",
            "Epoch 100/100\n",
            "5/5 [==============================] - 0s 9ms/step - loss: 563667.6875 - val_loss: 558966.0000\n"
          ]
        }
      ]
    },
    {
      "cell_type": "code",
      "source": [
        "hist1"
      ],
      "metadata": {
        "colab": {
          "base_uri": "https://localhost:8080/"
        },
        "id": "e8qFeEk55a0q",
        "outputId": "8b3f104b-49d3-4511-d999-089bd415cf18"
      },
      "execution_count": 9,
      "outputs": [
        {
          "output_type": "execute_result",
          "data": {
            "text/plain": [
              "<keras.src.callbacks.History at 0x7e1edff1b100>"
            ]
          },
          "metadata": {},
          "execution_count": 9
        }
      ]
    },
    {
      "cell_type": "code",
      "source": [
        "#model2\n",
        "model2= keras.Sequential()\n",
        "#laye aval 1vorodi\n",
        "model2.add(keras.layers.Dense(units=256,activation='relu',input_shape=[1]))\n",
        "model2.add(keras.layers.Dense(units=256,activation='relu'))\n",
        "model2.add(keras.layers.Dense(units=256,activation='relu'))\n",
        "model2.add(keras.layers.Dense(units=256,activation='relu'))\n",
        "#laye output niz 1vorodi\n",
        "model2.add(keras.layers.Dense(units=1))"
      ],
      "metadata": {
        "id": "0Cg7W24A5feO"
      },
      "execution_count": 10,
      "outputs": []
    },
    {
      "cell_type": "code",
      "source": [
        "#compile model2\n",
        "model2.compile(optimizer='adam',loss=\"mean_squared_error\")"
      ],
      "metadata": {
        "id": "0TL3s_sOPlB5"
      },
      "execution_count": 11,
      "outputs": []
    },
    {
      "cell_type": "code",
      "source": [
        "model2.summary()"
      ],
      "metadata": {
        "colab": {
          "base_uri": "https://localhost:8080/"
        },
        "id": "kmN68pHAWbvr",
        "outputId": "2ad44fb0-448d-4b24-a69f-801ab83d7d36"
      },
      "execution_count": 12,
      "outputs": [
        {
          "output_type": "stream",
          "name": "stdout",
          "text": [
            "Model: \"sequential_1\"\n",
            "_________________________________________________________________\n",
            " Layer (type)                Output Shape              Param #   \n",
            "=================================================================\n",
            " dense_2 (Dense)             (None, 256)               512       \n",
            "                                                                 \n",
            " dense_3 (Dense)             (None, 256)               65792     \n",
            "                                                                 \n",
            " dense_4 (Dense)             (None, 256)               65792     \n",
            "                                                                 \n",
            " dense_5 (Dense)             (None, 256)               65792     \n",
            "                                                                 \n",
            " dense_6 (Dense)             (None, 1)                 257       \n",
            "                                                                 \n",
            "=================================================================\n",
            "Total params: 198145 (774.00 KB)\n",
            "Trainable params: 198145 (774.00 KB)\n",
            "Non-trainable params: 0 (0.00 Byte)\n",
            "_________________________________________________________________\n"
          ]
        }
      ]
    },
    {
      "cell_type": "code",
      "source": [
        "#Train model2\n",
        "hist2=model2.fit(x_train,y_train,batch_size=64,epochs=100,validation_data=(x_test,y_test))"
      ],
      "metadata": {
        "colab": {
          "base_uri": "https://localhost:8080/"
        },
        "id": "qxjfDttCXMkq",
        "outputId": "e7b74083-66df-4776-c0ce-cba8121fb3cc"
      },
      "execution_count": 13,
      "outputs": [
        {
          "output_type": "stream",
          "name": "stdout",
          "text": [
            "Epoch 1/100\n",
            "5/5 [==============================] - 2s 41ms/step - loss: 8512309.0000 - val_loss: 8007127.0000\n",
            "Epoch 2/100\n",
            "5/5 [==============================] - 0s 10ms/step - loss: 8300626.0000 - val_loss: 7644400.0000\n",
            "Epoch 3/100\n",
            "5/5 [==============================] - 0s 15ms/step - loss: 7793012.5000 - val_loss: 6780508.0000\n",
            "Epoch 4/100\n",
            "5/5 [==============================] - 0s 11ms/step - loss: 6648726.5000 - val_loss: 5148113.0000\n",
            "Epoch 5/100\n",
            "5/5 [==============================] - 0s 9ms/step - loss: 4543731.0000 - val_loss: 2515852.2500\n",
            "Epoch 6/100\n",
            "5/5 [==============================] - 0s 12ms/step - loss: 1755818.8750 - val_loss: 562291.8750\n",
            "Epoch 7/100\n",
            "5/5 [==============================] - 0s 9ms/step - loss: 733431.0625 - val_loss: 1292493.0000\n",
            "Epoch 8/100\n",
            "5/5 [==============================] - 0s 14ms/step - loss: 1302293.7500 - val_loss: 696297.3125\n",
            "Epoch 9/100\n",
            "5/5 [==============================] - 0s 16ms/step - loss: 626253.1250 - val_loss: 556070.7500\n",
            "Epoch 10/100\n",
            "5/5 [==============================] - 0s 18ms/step - loss: 603203.7500 - val_loss: 594591.7500\n",
            "Epoch 11/100\n",
            "5/5 [==============================] - 0s 17ms/step - loss: 554361.5000 - val_loss: 568890.5000\n",
            "Epoch 12/100\n",
            "5/5 [==============================] - 0s 17ms/step - loss: 604256.8125 - val_loss: 627182.3750\n",
            "Epoch 13/100\n",
            "5/5 [==============================] - 0s 14ms/step - loss: 633198.1250 - val_loss: 608426.0625\n",
            "Epoch 14/100\n",
            "5/5 [==============================] - 0s 13ms/step - loss: 587462.3750 - val_loss: 582489.1875\n",
            "Epoch 15/100\n",
            "5/5 [==============================] - 0s 15ms/step - loss: 554596.0000 - val_loss: 536585.6250\n",
            "Epoch 16/100\n",
            "5/5 [==============================] - 0s 18ms/step - loss: 534454.4375 - val_loss: 522455.3750\n",
            "Epoch 17/100\n",
            "5/5 [==============================] - 0s 18ms/step - loss: 529088.1250 - val_loss: 521503.3750\n",
            "Epoch 18/100\n",
            "5/5 [==============================] - 0s 17ms/step - loss: 531808.0000 - val_loss: 523999.8125\n",
            "Epoch 19/100\n",
            "5/5 [==============================] - 0s 13ms/step - loss: 525055.4375 - val_loss: 522847.5625\n",
            "Epoch 20/100\n",
            "5/5 [==============================] - 0s 17ms/step - loss: 585932.1875 - val_loss: 643439.5625\n",
            "Epoch 21/100\n",
            "5/5 [==============================] - 0s 16ms/step - loss: 649421.2500 - val_loss: 546012.0625\n",
            "Epoch 22/100\n",
            "5/5 [==============================] - 0s 17ms/step - loss: 534439.7500 - val_loss: 568018.1875\n",
            "Epoch 23/100\n",
            "5/5 [==============================] - 0s 18ms/step - loss: 584327.5625 - val_loss: 586967.7500\n",
            "Epoch 24/100\n",
            "5/5 [==============================] - 0s 17ms/step - loss: 570074.6250 - val_loss: 530530.9375\n",
            "Epoch 25/100\n",
            "5/5 [==============================] - 0s 17ms/step - loss: 537656.6875 - val_loss: 514416.0000\n",
            "Epoch 26/100\n",
            "5/5 [==============================] - 0s 14ms/step - loss: 527635.6875 - val_loss: 514742.8438\n",
            "Epoch 27/100\n",
            "5/5 [==============================] - 0s 17ms/step - loss: 549397.9375 - val_loss: 542674.2500\n",
            "Epoch 28/100\n",
            "5/5 [==============================] - 0s 16ms/step - loss: 534607.8750 - val_loss: 535280.3750\n",
            "Epoch 29/100\n",
            "5/5 [==============================] - 0s 18ms/step - loss: 558961.5000 - val_loss: 570292.4375\n",
            "Epoch 30/100\n",
            "5/5 [==============================] - 0s 16ms/step - loss: 577957.5625 - val_loss: 711894.1250\n",
            "Epoch 31/100\n",
            "5/5 [==============================] - 0s 17ms/step - loss: 772160.3750 - val_loss: 675558.7500\n",
            "Epoch 32/100\n",
            "5/5 [==============================] - 0s 17ms/step - loss: 670310.0000 - val_loss: 534590.2500\n",
            "Epoch 33/100\n",
            "5/5 [==============================] - 0s 17ms/step - loss: 530978.4375 - val_loss: 514959.5938\n",
            "Epoch 34/100\n",
            "5/5 [==============================] - 0s 18ms/step - loss: 551409.7500 - val_loss: 562477.0625\n",
            "Epoch 35/100\n",
            "5/5 [==============================] - 0s 16ms/step - loss: 578943.6875 - val_loss: 538008.6250\n",
            "Epoch 36/100\n",
            "5/5 [==============================] - 0s 17ms/step - loss: 536930.0625 - val_loss: 509993.6250\n",
            "Epoch 37/100\n",
            "5/5 [==============================] - 0s 17ms/step - loss: 529758.8750 - val_loss: 504077.6562\n",
            "Epoch 38/100\n",
            "5/5 [==============================] - 0s 18ms/step - loss: 512618.3438 - val_loss: 504664.4688\n",
            "Epoch 39/100\n",
            "5/5 [==============================] - 0s 17ms/step - loss: 512245.4688 - val_loss: 582130.1875\n",
            "Epoch 40/100\n",
            "5/5 [==============================] - 0s 19ms/step - loss: 586357.0625 - val_loss: 608214.7500\n",
            "Epoch 41/100\n",
            "5/5 [==============================] - 0s 16ms/step - loss: 567926.9375 - val_loss: 543882.6875\n",
            "Epoch 42/100\n",
            "5/5 [==============================] - 0s 14ms/step - loss: 519882.3125 - val_loss: 507651.2812\n",
            "Epoch 43/100\n",
            "5/5 [==============================] - 0s 14ms/step - loss: 507021.6250 - val_loss: 515448.6250\n",
            "Epoch 44/100\n",
            "5/5 [==============================] - 0s 14ms/step - loss: 538656.8750 - val_loss: 525312.3125\n",
            "Epoch 45/100\n",
            "5/5 [==============================] - 0s 18ms/step - loss: 543464.9375 - val_loss: 500592.7500\n",
            "Epoch 46/100\n",
            "5/5 [==============================] - 0s 10ms/step - loss: 513611.7500 - val_loss: 502127.0625\n",
            "Epoch 47/100\n",
            "5/5 [==============================] - 0s 9ms/step - loss: 522176.8438 - val_loss: 521981.9062\n",
            "Epoch 48/100\n",
            "5/5 [==============================] - 0s 15ms/step - loss: 524026.7188 - val_loss: 537817.2500\n",
            "Epoch 49/100\n",
            "5/5 [==============================] - 0s 10ms/step - loss: 619950.4375 - val_loss: 640719.3125\n",
            "Epoch 50/100\n",
            "5/5 [==============================] - 0s 9ms/step - loss: 655621.5000 - val_loss: 504696.0000\n",
            "Epoch 51/100\n",
            "5/5 [==============================] - 0s 9ms/step - loss: 490573.0625 - val_loss: 532488.5625\n",
            "Epoch 52/100\n",
            "5/5 [==============================] - 0s 9ms/step - loss: 582162.3125 - val_loss: 617288.4375\n",
            "Epoch 53/100\n",
            "5/5 [==============================] - 0s 9ms/step - loss: 594591.1875 - val_loss: 496590.0312\n",
            "Epoch 54/100\n",
            "5/5 [==============================] - 0s 9ms/step - loss: 550674.8125 - val_loss: 678416.3125\n",
            "Epoch 55/100\n",
            "5/5 [==============================] - 0s 9ms/step - loss: 699729.8125 - val_loss: 514079.8750\n",
            "Epoch 56/100\n",
            "5/5 [==============================] - 0s 10ms/step - loss: 535609.8125 - val_loss: 581950.0625\n",
            "Epoch 57/100\n",
            "5/5 [==============================] - 0s 14ms/step - loss: 641537.0625 - val_loss: 583022.5625\n",
            "Epoch 58/100\n",
            "5/5 [==============================] - 0s 10ms/step - loss: 549753.8125 - val_loss: 688713.0000\n",
            "Epoch 59/100\n",
            "5/5 [==============================] - 0s 9ms/step - loss: 792278.0625 - val_loss: 691291.8750\n",
            "Epoch 60/100\n",
            "5/5 [==============================] - 0s 9ms/step - loss: 658064.6875 - val_loss: 571943.0000\n",
            "Epoch 61/100\n",
            "5/5 [==============================] - 0s 9ms/step - loss: 562347.8125 - val_loss: 544927.6875\n",
            "Epoch 62/100\n",
            "5/5 [==============================] - 0s 9ms/step - loss: 546834.1875 - val_loss: 547628.9375\n",
            "Epoch 63/100\n",
            "5/5 [==============================] - 0s 9ms/step - loss: 579485.0625 - val_loss: 507177.2812\n",
            "Epoch 64/100\n",
            "5/5 [==============================] - 0s 10ms/step - loss: 530715.2500 - val_loss: 518199.9375\n",
            "Epoch 65/100\n",
            "5/5 [==============================] - 0s 9ms/step - loss: 545482.0000 - val_loss: 517440.1250\n",
            "Epoch 66/100\n",
            "5/5 [==============================] - 0s 10ms/step - loss: 497575.4375 - val_loss: 471033.0938\n",
            "Epoch 67/100\n",
            "5/5 [==============================] - 0s 9ms/step - loss: 490930.5938 - val_loss: 468739.0000\n",
            "Epoch 68/100\n",
            "5/5 [==============================] - 0s 9ms/step - loss: 485172.5938 - val_loss: 476585.6875\n",
            "Epoch 69/100\n",
            "5/5 [==============================] - 0s 12ms/step - loss: 484400.8125 - val_loss: 488994.5938\n",
            "Epoch 70/100\n",
            "5/5 [==============================] - 0s 10ms/step - loss: 492096.0000 - val_loss: 483045.9688\n",
            "Epoch 71/100\n",
            "5/5 [==============================] - 0s 10ms/step - loss: 483444.2500 - val_loss: 469339.8750\n",
            "Epoch 72/100\n",
            "5/5 [==============================] - 0s 9ms/step - loss: 480378.8750 - val_loss: 462772.0000\n",
            "Epoch 73/100\n",
            "5/5 [==============================] - 0s 9ms/step - loss: 474617.5938 - val_loss: 486407.6875\n",
            "Epoch 74/100\n",
            "5/5 [==============================] - 0s 10ms/step - loss: 580851.8750 - val_loss: 582236.8125\n",
            "Epoch 75/100\n",
            "5/5 [==============================] - 0s 10ms/step - loss: 571425.3750 - val_loss: 511024.9375\n",
            "Epoch 76/100\n",
            "5/5 [==============================] - 0s 10ms/step - loss: 512964.3750 - val_loss: 524421.1250\n",
            "Epoch 77/100\n",
            "5/5 [==============================] - 0s 10ms/step - loss: 481209.0312 - val_loss: 479034.2812\n",
            "Epoch 78/100\n",
            "5/5 [==============================] - 0s 10ms/step - loss: 533679.1875 - val_loss: 550578.2500\n",
            "Epoch 79/100\n",
            "5/5 [==============================] - 0s 12ms/step - loss: 575857.2500 - val_loss: 508283.7812\n",
            "Epoch 80/100\n",
            "5/5 [==============================] - 0s 14ms/step - loss: 530267.9375 - val_loss: 491330.6250\n",
            "Epoch 81/100\n",
            "5/5 [==============================] - 0s 10ms/step - loss: 559348.0000 - val_loss: 558041.7500\n",
            "Epoch 82/100\n",
            "5/5 [==============================] - 0s 9ms/step - loss: 574007.6875 - val_loss: 499484.0312\n",
            "Epoch 83/100\n",
            "5/5 [==============================] - 0s 9ms/step - loss: 493884.6250 - val_loss: 523065.2188\n",
            "Epoch 84/100\n",
            "5/5 [==============================] - 0s 10ms/step - loss: 519175.8438 - val_loss: 539573.5000\n",
            "Epoch 85/100\n",
            "5/5 [==============================] - 0s 10ms/step - loss: 509412.8750 - val_loss: 462914.0000\n",
            "Epoch 86/100\n",
            "5/5 [==============================] - 0s 10ms/step - loss: 456512.9062 - val_loss: 467582.2812\n",
            "Epoch 87/100\n",
            "5/5 [==============================] - 0s 14ms/step - loss: 506993.0625 - val_loss: 475175.2500\n",
            "Epoch 88/100\n",
            "5/5 [==============================] - 0s 10ms/step - loss: 484673.0625 - val_loss: 443735.4375\n",
            "Epoch 89/100\n",
            "5/5 [==============================] - 0s 17ms/step - loss: 461420.5000 - val_loss: 447248.0625\n",
            "Epoch 90/100\n",
            "5/5 [==============================] - 0s 10ms/step - loss: 472714.6875 - val_loss: 476186.9375\n",
            "Epoch 91/100\n",
            "5/5 [==============================] - 0s 9ms/step - loss: 495900.2812 - val_loss: 501271.9688\n",
            "Epoch 92/100\n",
            "5/5 [==============================] - 0s 9ms/step - loss: 493738.2188 - val_loss: 484424.4688\n",
            "Epoch 93/100\n",
            "5/5 [==============================] - 0s 9ms/step - loss: 468990.9375 - val_loss: 459937.2500\n",
            "Epoch 94/100\n",
            "5/5 [==============================] - 0s 10ms/step - loss: 457257.7500 - val_loss: 456553.4375\n",
            "Epoch 95/100\n",
            "5/5 [==============================] - 0s 10ms/step - loss: 461667.6562 - val_loss: 444750.5625\n",
            "Epoch 96/100\n",
            "5/5 [==============================] - 0s 10ms/step - loss: 456022.2188 - val_loss: 448633.0000\n",
            "Epoch 97/100\n",
            "5/5 [==============================] - 0s 10ms/step - loss: 459287.9375 - val_loss: 455820.4062\n",
            "Epoch 98/100\n",
            "5/5 [==============================] - 0s 9ms/step - loss: 466716.2500 - val_loss: 458771.4062\n",
            "Epoch 99/100\n",
            "5/5 [==============================] - 0s 9ms/step - loss: 460917.4062 - val_loss: 452190.9688\n",
            "Epoch 100/100\n",
            "5/5 [==============================] - 0s 9ms/step - loss: 452002.6875 - val_loss: 438653.4375\n"
          ]
        }
      ]
    },
    {
      "cell_type": "code",
      "source": [
        "#predict and comparsion\n",
        "y_pred_1 = model1.predict(x_test)\n",
        "y_pred_2 = model2.predict(x_test)"
      ],
      "metadata": {
        "colab": {
          "base_uri": "https://localhost:8080/"
        },
        "id": "nrVeYFeZX8PE",
        "outputId": "65eeb395-9afb-48a9-bf5e-396273fdf956"
      },
      "execution_count": 14,
      "outputs": [
        {
          "output_type": "stream",
          "name": "stdout",
          "text": [
            "3/3 [==============================] - 0s 3ms/step\n",
            "3/3 [==============================] - 0s 3ms/step\n"
          ]
        }
      ]
    },
    {
      "cell_type": "code",
      "source": [
        "plt.scatter(x_test,y_test,color='red',linewidths=5)\n",
        "plt.scatter(x_test,y_pred_1,color='blue')\n",
        "plt.scatter(x_test,y_pred_2,color='green')\n",
        "plt.show()"
      ],
      "metadata": {
        "colab": {
          "base_uri": "https://localhost:8080/",
          "height": 430
        },
        "id": "OGj09lJOb650",
        "outputId": "364ff7ad-6229-4286-8913-59af7047b9bf"
      },
      "execution_count": 15,
      "outputs": [
        {
          "output_type": "display_data",
          "data": {
            "text/plain": [
              "<Figure size 640x480 with 1 Axes>"
            ],
            "image/png": "[encoded data removed]"
          },
          "metadata": {}
        }
      ]
    },
    {
      "cell_type": "code",
      "source": [
        "#rasm nemodar moteghayer hist\n",
        "plt.plot(hist1.history['val_loss'])"
      ],
      "metadata": {
        "colab": {
          "base_uri": "https://localhost:8080/",
          "height": 462
        },
        "id": "6Z4wue7LcYNB",
        "outputId": "41776c1b-81d2-4dcf-97a3-241e56aaefa9"
      },
      "execution_count": 16,
      "outputs": [
        {
          "output_type": "execute_result",
          "data": {
            "text/plain": [
              "[<matplotlib.lines.Line2D at 0x7e1e89767e50>]"
            ]
          },
          "metadata": {},
          "execution_count": 16
        },
        {
          "output_type": "display_data",
          "data": {
            "text/plain": [
              "<Figure size 640x480 with 1 Axes>"
            ],
            "image/png": "[encoded data removed]"
          },
          "metadata": {}
        }
      ]
    },
    {
      "cell_type": "code",
      "source": [
        "#rasm nemodar moteghayer hist dar epochs morede nazar\n",
        "plt.plot(hist1.history['val_loss'][40:60])"
      ],
      "metadata": {
        "colab": {
          "base_uri": "https://localhost:8080/",
          "height": 462
        },
        "id": "N-HgX6QcdGt4",
        "outputId": "c17bf3c9-86cd-4e99-d84e-08064e92065d"
      },
      "execution_count": 19,
      "outputs": [
        {
          "output_type": "execute_result",
          "data": {
            "text/plain": [
              "[<matplotlib.lines.Line2D at 0x7e1eaa1c3370>]"
            ]
          },
          "metadata": {},
          "execution_count": 19
        },
        {
          "output_type": "display_data",
          "data": {
            "text/plain": [
              "<Figure size 640x480 with 1 Axes>"
            ],
            "image/png": "[encoded data removed]"
          },
          "metadata": {}
        }
      ]
    },
    {
      "cell_type": "code",
      "source": [
        "plt.plot(hist1.history['val_loss'],color='red')\n",
        "plt.plot(hist2.history['val_loss'],color='blue')\n",
        "plt.show()"
      ],
      "metadata": {
        "colab": {
          "base_uri": "https://localhost:8080/",
          "height": 445
        },
        "id": "60GDzilkd35Z",
        "outputId": "4331774d-4803-4801-dbe7-2af78a86dbbd"
      },
      "execution_count": 18,
      "outputs": [
        {
          "output_type": "display_data",
          "data": {
            "text/plain": [
              "<Figure size 640x480 with 1 Axes>"
            ],
            "image/png": "[encoded data removed]"
          },
          "metadata": {}
        }
      ]
    },
    {
      "cell_type": "code",
      "source": [],
      "metadata": {
        "id": "jMS1qHq0rIfz"
      },
      "execution_count": 18,
      "outputs": []
    }
  ]
}