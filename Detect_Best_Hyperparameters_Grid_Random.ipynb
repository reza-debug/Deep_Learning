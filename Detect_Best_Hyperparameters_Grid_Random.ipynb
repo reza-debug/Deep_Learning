{
  "nbformat": 4,
  "nbformat_minor": 0,
  "metadata": {
    "colab": {
      "provenance": [],
      "gpuType": "T4",
      "authorship_tag": "ABX9TyOEoN6hFheGOeSfcMDjDupl",
      "include_colab_link": true
    },
    "kernelspec": {
      "name": "python3",
      "display_name": "Python 3"
    },
    "language_info": {
      "name": "python"
    },
    "accelerator": "GPU"
  },
  "cells": [
    {
      "cell_type": "markdown",
      "metadata": {
        "id": "view-in-github",
        "colab_type": "text"
      },
      "source": [
        "<a href=\"https://colab.research.google.com/github/reza-debug/Deep_Learning/blob/main/Detect_Best_Hyperparameters_Grid_Random.ipynb\" target=\"_parent\"><img src=\"https://colab.research.google.com/assets/colab-badge.svg\" alt=\"Open In Colab\"/></a>"
      ]
    },
    {
      "cell_type": "code",
      "source": [
        "#dataset creating\n",
        "\n",
        "from sklearn.datasets import make_classification\n",
        "X,y = make_classification(n_samples=1000, n_features=20, n_informative=18, n_redundant=2, random_state=0)\n",
        "\n",
        "from sklearn.model_selection import train_test_split\n",
        "X_train, X_test, y_train, y_test = train_test_split(X,y, test_size=0.2)"
      ],
      "metadata": {
        "id": "niXR2QCG9Xx9"
      },
      "execution_count": 17,
      "outputs": []
    },
    {
      "cell_type": "code",
      "source": [
        "X[0],y[0]"
      ],
      "metadata": {
        "colab": {
          "base_uri": "https://localhost:8080/"
        },
        "id": "UeUryYdsUd0V",
        "outputId": "a75da253-af2f-46cb-ad03-dae9774c8adc"
      },
      "execution_count": 18,
      "outputs": [
        {
          "output_type": "execute_result",
          "data": {
            "text/plain": [
              "(array([ 8.2858606 ,  2.14409263, -2.4645149 , -0.59523405,  1.7497599 ,\n",
              "        -3.88671498, -1.46334475, -0.13011995, -4.16648757, -0.8443012 ,\n",
              "        -4.01524638,  1.56084248, -1.16780473,  1.54090381, -2.15145616,\n",
              "        -2.76033823,  3.18943054,  1.54977837, -0.80172001, -2.78511922]),\n",
              " 1)"
            ]
          },
          "metadata": {},
          "execution_count": 18
        }
      ]
    },
    {
      "cell_type": "code",
      "source": [
        "#model difination\n",
        "import tensorflow as tf\n",
        "from tensorflow import keras\n",
        "def create_model(hidden_units=16, optimizer='adam'):\n",
        "  model = keras.Sequential()\n",
        "  model.add(keras.layers.Dense(hidden_units,input_shape=(None,20),activation='relu' ))\n",
        "  model.add(keras.layers.Dense(1,activation='sigmoid'))\n",
        "  model.compile(optimizer=optimizer, loss=tf.losses.binary_crossentropy, metrics=['accuracy'] )\n",
        "\n",
        "  return model"
      ],
      "metadata": {
        "id": "uSl9R3YD_Ito"
      },
      "execution_count": 19,
      "outputs": []
    },
    {
      "cell_type": "code",
      "source": [
        "!pip install scikeras"
      ],
      "metadata": {
        "colab": {
          "base_uri": "https://localhost:8080/"
        },
        "id": "gMr-5IkTCEH1",
        "outputId": "38c99598-6a6b-41a0-f3a5-0a7cc2813be5"
      },
      "execution_count": 20,
      "outputs": [
        {
          "output_type": "stream",
          "name": "stdout",
          "text": [
            "Requirement already satisfied: scikeras in /usr/local/lib/python3.10/dist-packages (0.12.0)\n",
            "Requirement already satisfied: packaging>=0.21 in /usr/local/lib/python3.10/dist-packages (from scikeras) (23.2)\n",
            "Requirement already satisfied: scikit-learn>=1.0.0 in /usr/local/lib/python3.10/dist-packages (from scikeras) (1.2.2)\n",
            "Requirement already satisfied: numpy>=1.17.3 in /usr/local/lib/python3.10/dist-packages (from scikit-learn>=1.0.0->scikeras) (1.23.5)\n",
            "Requirement already satisfied: scipy>=1.3.2 in /usr/local/lib/python3.10/dist-packages (from scikit-learn>=1.0.0->scikeras) (1.11.4)\n",
            "Requirement already satisfied: joblib>=1.1.1 in /usr/local/lib/python3.10/dist-packages (from scikit-learn>=1.0.0->scikeras) (1.3.2)\n",
            "Requirement already satisfied: threadpoolctl>=2.0.0 in /usr/local/lib/python3.10/dist-packages (from scikit-learn>=1.0.0->scikeras) (3.2.0)\n"
          ]
        }
      ]
    },
    {
      "cell_type": "code",
      "source": [
        "#parametrs definition\n",
        "params = {\n",
        "    'model__hidden_units':[ 16, 32, 64],\n",
        "    'model__optimizer':['adam','rmsprop']\n",
        "    }\n",
        "\n",
        "from scikeras.wrappers import KerasClassifier\n",
        "from sklearn.model_selection import RandomizedSearchCV\n",
        "model = KerasClassifier( model=create_model, loss='binary_crossentropy', epochs=10, batch_size=32, verbose=0 )\n",
        "rs= RandomizedSearchCV( estimator=model, param_distributions=params, cv=3, n_iter=3 )"
      ],
      "metadata": {
        "id": "OPcOXemAEF7Q"
      },
      "execution_count": 21,
      "outputs": []
    },
    {
      "cell_type": "code",
      "source": [
        "rs_result = rs.fit( X_train,y_train )"
      ],
      "metadata": {
        "id": "v-U0LmAbbA5I"
      },
      "execution_count": 22,
      "outputs": []
    },
    {
      "cell_type": "code",
      "source": [
        "params = {\n",
        "    'model__hidden_units':[ 16, 32, 64],\n",
        "    'model__optimizer':['adam','rmsprop']\n",
        "    }\n",
        "\n",
        "from scikeras.wrappers import KerasClassifier\n",
        "from sklearn.model_selection import GridSearchCV\n",
        "model = KerasClassifier( model=create_model, loss='binary_crossentropy', epochs=10, batch_size=32, verbose=0 )\n",
        "grid = GridSearchCV( estimator=model, param_grid=params, cv=3 )"
      ],
      "metadata": {
        "id": "SHi7PMgQcfCV"
      },
      "execution_count": 23,
      "outputs": []
    },
    {
      "cell_type": "code",
      "source": [
        "grid_result = grid.fit( X_train,y_train )"
      ],
      "metadata": {
        "id": "NQYERxA0GxyF"
      },
      "execution_count": 24,
      "outputs": []
    },
    {
      "cell_type": "code",
      "source": [
        "#show the best\n",
        "best_params_GridSearch = grid_result.best_params_\n",
        "best_params_RandomSearch = rs_result.best_params_\n",
        "\n",
        "best_score_grid = grid_result.best_score_\n",
        "best_score_random = rs_result.best_score_\n",
        "\n",
        "best_params_GridSearch,best_params_RandomSearch, best_score_grid, best_score_random"
      ],
      "metadata": {
        "colab": {
          "base_uri": "https://localhost:8080/"
        },
        "id": "XeLKqoVfG2Zl",
        "outputId": "97ba209b-d1d6-4d09-9c1a-2f5bdd325676"
      },
      "execution_count": 27,
      "outputs": [
        {
          "output_type": "execute_result",
          "data": {
            "text/plain": [
              "({'model__hidden_units': 64, 'model__optimizer': 'rmsprop'},\n",
              " {'model__optimizer': 'rmsprop', 'model__hidden_units': 64},\n",
              " 0.8724996010625815,\n",
              " 0.8824871166680746)"
            ]
          },
          "metadata": {},
          "execution_count": 27
        }
      ]
    },
    {
      "cell_type": "code",
      "source": [],
      "metadata": {
        "id": "zzr-0yhLJRUa"
      },
      "execution_count": 25,
      "outputs": []
    }
  ]
}