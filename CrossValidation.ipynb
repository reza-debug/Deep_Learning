{
  "nbformat": 4,
  "nbformat_minor": 0,
  "metadata": {
    "colab": {
      "provenance": [],
      "gpuType": "T4",
      "authorship_tag": "ABX9TyPMCqU5zU0QYy3kpOxT7S7Q",
      "include_colab_link": true
    },
    "kernelspec": {
      "name": "python3",
      "display_name": "Python 3"
    },
    "language_info": {
      "name": "python"
    },
    "accelerator": "GPU"
  },
  "cells": [
    {
      "cell_type": "markdown",
      "metadata": {
        "id": "view-in-github",
        "colab_type": "text"
      },
      "source": [
        "<a href=\"https://colab.research.google.com/github/reza-debug/Deep_Learning/blob/main/CrossValidation.ipynb\" target=\"_parent\"><img src=\"https://colab.research.google.com/assets/colab-badge.svg\" alt=\"Open In Colab\"/></a>"
      ]
    },
    {
      "cell_type": "markdown",
      "source": [
        "# Data Creation 🍨"
      ],
      "metadata": {
        "id": "k56ZGVEYNMIs"
      }
    },
    {
      "cell_type": "code",
      "source": [
        "from sklearn.datasets import make_classification\n",
        "\n",
        "X,y = make_classification(n_samples=1000, n_features=10, n_informative=8, n_redundant=2, random_state=0, n_classes=2)\n",
        "\n"
      ],
      "metadata": {
        "id": "1XjD8v99Npmh"
      },
      "execution_count": 19,
      "outputs": []
    },
    {
      "cell_type": "code",
      "source": [
        "X[0]"
      ],
      "metadata": {
        "colab": {
          "base_uri": "https://localhost:8080/"
        },
        "id": "Bw_dqMpjVn0q",
        "outputId": "a881be08-ddde-42a6-e070-023835a6b8c7"
      },
      "execution_count": 20,
      "outputs": [
        {
          "output_type": "execute_result",
          "data": {
            "text/plain": [
              "array([ 0.59748132,  2.03702154,  0.63388218,  2.89010949,  1.30628617,\n",
              "       -0.52502013,  0.19653851, -0.58915931, -0.5775684 , -2.07947151])"
            ]
          },
          "metadata": {},
          "execution_count": 20
        }
      ]
    },
    {
      "cell_type": "code",
      "source": [
        "y[0]"
      ],
      "metadata": {
        "colab": {
          "base_uri": "https://localhost:8080/"
        },
        "id": "tEqq0uTXVuq9",
        "outputId": "057fd925-693b-40d8-fafd-3d29c1980494"
      },
      "execution_count": 21,
      "outputs": [
        {
          "output_type": "execute_result",
          "data": {
            "text/plain": [
              "1"
            ]
          },
          "metadata": {},
          "execution_count": 21
        }
      ]
    },
    {
      "cell_type": "code",
      "source": [
        "import tensorflow as tf\n",
        "from tensorflow import keras"
      ],
      "metadata": {
        "id": "VyHvhZXkN2zZ"
      },
      "execution_count": 22,
      "outputs": []
    },
    {
      "cell_type": "markdown",
      "source": [
        "## Function for create model 🤭"
      ],
      "metadata": {
        "id": "cRR4q_AzTT_d"
      }
    },
    {
      "cell_type": "code",
      "source": [
        "def create_model():\n",
        "  model = keras.Sequential()\n",
        "  model.add(keras.layers.Dense(units=20, activation='relu'))\n",
        "  model.add(keras.layers.Dense(units=1, activation='sigmoid'))\n",
        "\n",
        "  model.compile(optimizer= 'Adam', loss = tf.losses.binary_crossentropy, metrics= ['Accuracy'])\n",
        "  return model"
      ],
      "metadata": {
        "id": "ftwTIoo1QQBT"
      },
      "execution_count": 23,
      "outputs": []
    },
    {
      "cell_type": "markdown",
      "source": [
        "## Cross Validation 🎷"
      ],
      "metadata": {
        "id": "a2Cavi8VTllk"
      }
    },
    {
      "cell_type": "code",
      "source": [
        "n_split = 5\n",
        "#5 fold made by stratifiedFold\n",
        "from sklearn.model_selection import StratifiedKFold\n",
        "from sklearn.metrics import accuracy_score\n",
        "\n",
        "kf = StratifiedKFold( n_splits = n_split, shuffle=True )\n"
      ],
      "metadata": {
        "id": "QSDxQlCiTOxB"
      },
      "execution_count": 24,
      "outputs": []
    },
    {
      "cell_type": "code",
      "source": [
        "#save all of acc from each fold\n",
        "#the best will be in mean of acc_total\n",
        "acc_total = []"
      ],
      "metadata": {
        "id": "pXCLK8zCUtf5"
      },
      "execution_count": 25,
      "outputs": []
    },
    {
      "cell_type": "code",
      "source": [
        "kf"
      ],
      "metadata": {
        "colab": {
          "base_uri": "https://localhost:8080/"
        },
        "id": "orpkXbixXp9y",
        "outputId": "9572dd29-d30c-4437-f76d-cfb4b5756d53"
      },
      "execution_count": 26,
      "outputs": [
        {
          "output_type": "execute_result",
          "data": {
            "text/plain": [
              "StratifiedKFold(n_splits=5, random_state=None, shuffle=True)"
            ]
          },
          "metadata": {},
          "execution_count": 26
        }
      ]
    },
    {
      "cell_type": "code",
      "source": [
        "for train_index, validation_index in kf.split(X,y):\n",
        "  X_train = X[ train_index ]\n",
        "  y_train = y[ train_index ]\n",
        "\n",
        "  X_validation = X[ validation_index ]\n",
        "  y_validation = y[ validation_index ]\n",
        "  #5bar ba flot dar makanhaye mokhtalef hesab mishavad\n",
        "  model = create_model()\n",
        "  model.fit( X_train, y_train, epochs=20 , batch_size=64, validation_data = ( X_validation, y_validation ), verbose= 1 )\n",
        "  #verbose for show info (0,1,2)\n",
        "\n",
        "  y_pred = model.predict(X_validation)\n",
        "  #change float to int\n",
        "  y_pred = (y_pred > 0.5).astype(\"int32\")\n",
        "\n",
        "  #all of acc in one list\n",
        "  acc = accuracy_score( y_true= y_validation, y_pred= y_pred )\n",
        "  acc_total.append(acc)\n",
        "\n",
        "\n"
      ],
      "metadata": {
        "colab": {
          "base_uri": "https://localhost:8080/"
        },
        "id": "C73kOkd1VFGu",
        "outputId": "a7ecee49-24dc-46dd-f67f-7c01d12b6ce6"
      },
      "execution_count": 27,
      "outputs": [
        {
          "output_type": "stream",
          "name": "stdout",
          "text": [
            "Epoch 1/20\n",
            "13/13 [==============================] - 2s 23ms/step - loss: 1.0228 - Accuracy: 0.5063 - val_loss: 0.9073 - val_Accuracy: 0.5700\n",
            "Epoch 2/20\n",
            "13/13 [==============================] - 0s 5ms/step - loss: 0.8695 - Accuracy: 0.5650 - val_loss: 0.7828 - val_Accuracy: 0.6200\n",
            "Epoch 3/20\n",
            "13/13 [==============================] - 0s 6ms/step - loss: 0.7429 - Accuracy: 0.6137 - val_loss: 0.6818 - val_Accuracy: 0.6900\n",
            "Epoch 4/20\n",
            "13/13 [==============================] - 0s 7ms/step - loss: 0.6414 - Accuracy: 0.6513 - val_loss: 0.6022 - val_Accuracy: 0.7200\n",
            "Epoch 5/20\n",
            "13/13 [==============================] - 0s 6ms/step - loss: 0.5647 - Accuracy: 0.7075 - val_loss: 0.5405 - val_Accuracy: 0.7500\n",
            "Epoch 6/20\n",
            "13/13 [==============================] - 0s 5ms/step - loss: 0.5040 - Accuracy: 0.7487 - val_loss: 0.4935 - val_Accuracy: 0.7650\n",
            "Epoch 7/20\n",
            "13/13 [==============================] - 0s 6ms/step - loss: 0.4604 - Accuracy: 0.7875 - val_loss: 0.4572 - val_Accuracy: 0.7650\n",
            "Epoch 8/20\n",
            "13/13 [==============================] - 0s 5ms/step - loss: 0.4273 - Accuracy: 0.8263 - val_loss: 0.4266 - val_Accuracy: 0.7950\n",
            "Epoch 9/20\n",
            "13/13 [==============================] - 0s 5ms/step - loss: 0.3994 - Accuracy: 0.8413 - val_loss: 0.4018 - val_Accuracy: 0.8150\n",
            "Epoch 10/20\n",
            "13/13 [==============================] - 0s 5ms/step - loss: 0.3765 - Accuracy: 0.8650 - val_loss: 0.3800 - val_Accuracy: 0.8450\n",
            "Epoch 11/20\n",
            "13/13 [==============================] - 0s 6ms/step - loss: 0.3574 - Accuracy: 0.8750 - val_loss: 0.3601 - val_Accuracy: 0.8550\n",
            "Epoch 12/20\n",
            "13/13 [==============================] - 0s 6ms/step - loss: 0.3402 - Accuracy: 0.8938 - val_loss: 0.3429 - val_Accuracy: 0.8750\n",
            "Epoch 13/20\n",
            "13/13 [==============================] - 0s 6ms/step - loss: 0.3250 - Accuracy: 0.9025 - val_loss: 0.3282 - val_Accuracy: 0.8950\n",
            "Epoch 14/20\n",
            "13/13 [==============================] - 0s 5ms/step - loss: 0.3114 - Accuracy: 0.9087 - val_loss: 0.3151 - val_Accuracy: 0.9050\n",
            "Epoch 15/20\n",
            "13/13 [==============================] - 0s 5ms/step - loss: 0.2993 - Accuracy: 0.9125 - val_loss: 0.3027 - val_Accuracy: 0.9200\n",
            "Epoch 16/20\n",
            "13/13 [==============================] - 0s 7ms/step - loss: 0.2885 - Accuracy: 0.9125 - val_loss: 0.2914 - val_Accuracy: 0.9300\n",
            "Epoch 17/20\n",
            "13/13 [==============================] - 0s 6ms/step - loss: 0.2784 - Accuracy: 0.9162 - val_loss: 0.2818 - val_Accuracy: 0.9350\n",
            "Epoch 18/20\n",
            "13/13 [==============================] - 0s 7ms/step - loss: 0.2690 - Accuracy: 0.9212 - val_loss: 0.2736 - val_Accuracy: 0.9350\n",
            "Epoch 19/20\n",
            "13/13 [==============================] - 0s 6ms/step - loss: 0.2606 - Accuracy: 0.9225 - val_loss: 0.2658 - val_Accuracy: 0.9400\n",
            "Epoch 20/20\n",
            "13/13 [==============================] - 0s 6ms/step - loss: 0.2527 - Accuracy: 0.9237 - val_loss: 0.2590 - val_Accuracy: 0.9450\n",
            "7/7 [==============================] - 0s 2ms/step\n",
            "Epoch 1/20\n",
            "13/13 [==============================] - 1s 16ms/step - loss: 0.7701 - Accuracy: 0.5612 - val_loss: 0.7262 - val_Accuracy: 0.6200\n",
            "Epoch 2/20\n",
            "13/13 [==============================] - 0s 5ms/step - loss: 0.6637 - Accuracy: 0.6313 - val_loss: 0.6431 - val_Accuracy: 0.7050\n",
            "Epoch 3/20\n",
            "13/13 [==============================] - 0s 5ms/step - loss: 0.5766 - Accuracy: 0.7100 - val_loss: 0.5790 - val_Accuracy: 0.7800\n",
            "Epoch 4/20\n",
            "13/13 [==============================] - 0s 5ms/step - loss: 0.5102 - Accuracy: 0.7837 - val_loss: 0.5285 - val_Accuracy: 0.8150\n",
            "Epoch 5/20\n",
            "13/13 [==============================] - 0s 6ms/step - loss: 0.4570 - Accuracy: 0.8250 - val_loss: 0.4888 - val_Accuracy: 0.8400\n",
            "Epoch 6/20\n",
            "13/13 [==============================] - 0s 5ms/step - loss: 0.4185 - Accuracy: 0.8625 - val_loss: 0.4558 - val_Accuracy: 0.8550\n",
            "Epoch 7/20\n",
            "13/13 [==============================] - 0s 5ms/step - loss: 0.3870 - Accuracy: 0.8888 - val_loss: 0.4310 - val_Accuracy: 0.8650\n",
            "Epoch 8/20\n",
            "13/13 [==============================] - 0s 7ms/step - loss: 0.3633 - Accuracy: 0.8938 - val_loss: 0.4084 - val_Accuracy: 0.8650\n",
            "Epoch 9/20\n",
            "13/13 [==============================] - 0s 7ms/step - loss: 0.3438 - Accuracy: 0.9013 - val_loss: 0.3903 - val_Accuracy: 0.8800\n",
            "Epoch 10/20\n",
            "13/13 [==============================] - 0s 6ms/step - loss: 0.3286 - Accuracy: 0.9025 - val_loss: 0.3736 - val_Accuracy: 0.8850\n",
            "Epoch 11/20\n",
            "13/13 [==============================] - 0s 5ms/step - loss: 0.3141 - Accuracy: 0.9025 - val_loss: 0.3605 - val_Accuracy: 0.8850\n",
            "Epoch 12/20\n",
            "13/13 [==============================] - 0s 6ms/step - loss: 0.3024 - Accuracy: 0.9062 - val_loss: 0.3482 - val_Accuracy: 0.8850\n",
            "Epoch 13/20\n",
            "13/13 [==============================] - 0s 6ms/step - loss: 0.2920 - Accuracy: 0.9087 - val_loss: 0.3367 - val_Accuracy: 0.8850\n",
            "Epoch 14/20\n",
            "13/13 [==============================] - 0s 7ms/step - loss: 0.2821 - Accuracy: 0.9150 - val_loss: 0.3268 - val_Accuracy: 0.8850\n",
            "Epoch 15/20\n",
            "13/13 [==============================] - 0s 5ms/step - loss: 0.2732 - Accuracy: 0.9187 - val_loss: 0.3172 - val_Accuracy: 0.8850\n",
            "Epoch 16/20\n",
            "13/13 [==============================] - 0s 7ms/step - loss: 0.2654 - Accuracy: 0.9225 - val_loss: 0.3089 - val_Accuracy: 0.8900\n",
            "Epoch 17/20\n",
            "13/13 [==============================] - 0s 5ms/step - loss: 0.2585 - Accuracy: 0.9225 - val_loss: 0.3020 - val_Accuracy: 0.8900\n",
            "Epoch 18/20\n",
            "13/13 [==============================] - 0s 5ms/step - loss: 0.2521 - Accuracy: 0.9237 - val_loss: 0.2953 - val_Accuracy: 0.8900\n",
            "Epoch 19/20\n",
            "13/13 [==============================] - 0s 5ms/step - loss: 0.2460 - Accuracy: 0.9237 - val_loss: 0.2884 - val_Accuracy: 0.8950\n",
            "Epoch 20/20\n",
            "13/13 [==============================] - 0s 5ms/step - loss: 0.2405 - Accuracy: 0.9262 - val_loss: 0.2827 - val_Accuracy: 0.8950\n",
            "7/7 [==============================] - 0s 2ms/step\n",
            "Epoch 1/20\n",
            "13/13 [==============================] - 1s 17ms/step - loss: 0.7695 - Accuracy: 0.6050 - val_loss: 0.6979 - val_Accuracy: 0.6400\n",
            "Epoch 2/20\n",
            "13/13 [==============================] - 0s 7ms/step - loss: 0.6726 - Accuracy: 0.6750 - val_loss: 0.6033 - val_Accuracy: 0.6850\n",
            "Epoch 3/20\n",
            "13/13 [==============================] - 0s 5ms/step - loss: 0.5964 - Accuracy: 0.7275 - val_loss: 0.5286 - val_Accuracy: 0.7250\n",
            "Epoch 4/20\n",
            "13/13 [==============================] - 0s 6ms/step - loss: 0.5360 - Accuracy: 0.7575 - val_loss: 0.4701 - val_Accuracy: 0.7700\n",
            "Epoch 5/20\n",
            "13/13 [==============================] - 0s 5ms/step - loss: 0.4883 - Accuracy: 0.7900 - val_loss: 0.4239 - val_Accuracy: 0.7950\n",
            "Epoch 6/20\n",
            "13/13 [==============================] - 0s 6ms/step - loss: 0.4487 - Accuracy: 0.8150 - val_loss: 0.3881 - val_Accuracy: 0.8300\n",
            "Epoch 7/20\n",
            "13/13 [==============================] - 0s 6ms/step - loss: 0.4171 - Accuracy: 0.8300 - val_loss: 0.3577 - val_Accuracy: 0.8650\n",
            "Epoch 8/20\n",
            "13/13 [==============================] - 0s 5ms/step - loss: 0.3895 - Accuracy: 0.8438 - val_loss: 0.3341 - val_Accuracy: 0.8750\n",
            "Epoch 9/20\n",
            "13/13 [==============================] - 0s 6ms/step - loss: 0.3661 - Accuracy: 0.8512 - val_loss: 0.3132 - val_Accuracy: 0.9000\n",
            "Epoch 10/20\n",
            "13/13 [==============================] - 0s 6ms/step - loss: 0.3459 - Accuracy: 0.8637 - val_loss: 0.2957 - val_Accuracy: 0.9300\n",
            "Epoch 11/20\n",
            "13/13 [==============================] - 0s 6ms/step - loss: 0.3277 - Accuracy: 0.8788 - val_loss: 0.2805 - val_Accuracy: 0.9400\n",
            "Epoch 12/20\n",
            "13/13 [==============================] - 0s 6ms/step - loss: 0.3127 - Accuracy: 0.8900 - val_loss: 0.2663 - val_Accuracy: 0.9400\n",
            "Epoch 13/20\n",
            "13/13 [==============================] - 0s 5ms/step - loss: 0.2989 - Accuracy: 0.9000 - val_loss: 0.2551 - val_Accuracy: 0.9400\n",
            "Epoch 14/20\n",
            "13/13 [==============================] - 0s 5ms/step - loss: 0.2873 - Accuracy: 0.9038 - val_loss: 0.2448 - val_Accuracy: 0.9400\n",
            "Epoch 15/20\n",
            "13/13 [==============================] - 0s 7ms/step - loss: 0.2764 - Accuracy: 0.9112 - val_loss: 0.2349 - val_Accuracy: 0.9400\n",
            "Epoch 16/20\n",
            "13/13 [==============================] - 0s 5ms/step - loss: 0.2670 - Accuracy: 0.9212 - val_loss: 0.2272 - val_Accuracy: 0.9450\n",
            "Epoch 17/20\n",
            "13/13 [==============================] - 0s 5ms/step - loss: 0.2582 - Accuracy: 0.9200 - val_loss: 0.2203 - val_Accuracy: 0.9450\n",
            "Epoch 18/20\n",
            "13/13 [==============================] - 0s 6ms/step - loss: 0.2500 - Accuracy: 0.9325 - val_loss: 0.2128 - val_Accuracy: 0.9500\n",
            "Epoch 19/20\n",
            "13/13 [==============================] - 0s 6ms/step - loss: 0.2426 - Accuracy: 0.9350 - val_loss: 0.2049 - val_Accuracy: 0.9550\n",
            "Epoch 20/20\n",
            "13/13 [==============================] - 0s 5ms/step - loss: 0.2357 - Accuracy: 0.9350 - val_loss: 0.1996 - val_Accuracy: 0.9500\n",
            "7/7 [==============================] - 0s 2ms/step\n",
            "Epoch 1/20\n",
            "13/13 [==============================] - 1s 16ms/step - loss: 0.9996 - Accuracy: 0.4387 - val_loss: 0.9380 - val_Accuracy: 0.4900\n",
            "Epoch 2/20\n",
            "13/13 [==============================] - 0s 5ms/step - loss: 0.8382 - Accuracy: 0.5038 - val_loss: 0.7820 - val_Accuracy: 0.5600\n",
            "Epoch 3/20\n",
            "13/13 [==============================] - 0s 6ms/step - loss: 0.7165 - Accuracy: 0.5675 - val_loss: 0.6594 - val_Accuracy: 0.6450\n",
            "Epoch 4/20\n",
            "13/13 [==============================] - 0s 6ms/step - loss: 0.6177 - Accuracy: 0.6375 - val_loss: 0.5681 - val_Accuracy: 0.6900\n",
            "Epoch 5/20\n",
            "13/13 [==============================] - 0s 5ms/step - loss: 0.5441 - Accuracy: 0.7038 - val_loss: 0.4971 - val_Accuracy: 0.7550\n",
            "Epoch 6/20\n",
            "13/13 [==============================] - 0s 6ms/step - loss: 0.4855 - Accuracy: 0.7800 - val_loss: 0.4400 - val_Accuracy: 0.8100\n",
            "Epoch 7/20\n",
            "13/13 [==============================] - 0s 5ms/step - loss: 0.4362 - Accuracy: 0.8225 - val_loss: 0.3981 - val_Accuracy: 0.8350\n",
            "Epoch 8/20\n",
            "13/13 [==============================] - 0s 5ms/step - loss: 0.4001 - Accuracy: 0.8462 - val_loss: 0.3645 - val_Accuracy: 0.8600\n",
            "Epoch 9/20\n",
            "13/13 [==============================] - 0s 6ms/step - loss: 0.3708 - Accuracy: 0.8612 - val_loss: 0.3369 - val_Accuracy: 0.8850\n",
            "Epoch 10/20\n",
            "13/13 [==============================] - 0s 5ms/step - loss: 0.3459 - Accuracy: 0.8788 - val_loss: 0.3149 - val_Accuracy: 0.8950\n",
            "Epoch 11/20\n",
            "13/13 [==============================] - 0s 6ms/step - loss: 0.3257 - Accuracy: 0.8888 - val_loss: 0.2972 - val_Accuracy: 0.8950\n",
            "Epoch 12/20\n",
            "13/13 [==============================] - 0s 6ms/step - loss: 0.3094 - Accuracy: 0.8988 - val_loss: 0.2831 - val_Accuracy: 0.8950\n",
            "Epoch 13/20\n",
            "13/13 [==============================] - 0s 5ms/step - loss: 0.2950 - Accuracy: 0.9062 - val_loss: 0.2706 - val_Accuracy: 0.8950\n",
            "Epoch 14/20\n",
            "13/13 [==============================] - 0s 6ms/step - loss: 0.2831 - Accuracy: 0.9187 - val_loss: 0.2598 - val_Accuracy: 0.9000\n",
            "Epoch 15/20\n",
            "13/13 [==============================] - 0s 6ms/step - loss: 0.2725 - Accuracy: 0.9237 - val_loss: 0.2502 - val_Accuracy: 0.9100\n",
            "Epoch 16/20\n",
            "13/13 [==============================] - 0s 6ms/step - loss: 0.2633 - Accuracy: 0.9287 - val_loss: 0.2420 - val_Accuracy: 0.9150\n",
            "Epoch 17/20\n",
            "13/13 [==============================] - 0s 5ms/step - loss: 0.2556 - Accuracy: 0.9325 - val_loss: 0.2346 - val_Accuracy: 0.9100\n",
            "Epoch 18/20\n",
            "13/13 [==============================] - 0s 6ms/step - loss: 0.2483 - Accuracy: 0.9337 - val_loss: 0.2283 - val_Accuracy: 0.9050\n",
            "Epoch 19/20\n",
            "13/13 [==============================] - 0s 5ms/step - loss: 0.2418 - Accuracy: 0.9350 - val_loss: 0.2227 - val_Accuracy: 0.9000\n",
            "Epoch 20/20\n",
            "13/13 [==============================] - 0s 7ms/step - loss: 0.2361 - Accuracy: 0.9375 - val_loss: 0.2168 - val_Accuracy: 0.9050\n",
            "7/7 [==============================] - 0s 2ms/step\n",
            "Epoch 1/20\n",
            "13/13 [==============================] - 1s 26ms/step - loss: 0.7108 - Accuracy: 0.5462 - val_loss: 0.7377 - val_Accuracy: 0.4950\n",
            "Epoch 2/20\n",
            "13/13 [==============================] - 0s 8ms/step - loss: 0.6097 - Accuracy: 0.6162 - val_loss: 0.6490 - val_Accuracy: 0.5600\n",
            "Epoch 3/20\n",
            "13/13 [==============================] - 0s 7ms/step - loss: 0.5311 - Accuracy: 0.7000 - val_loss: 0.5777 - val_Accuracy: 0.6900\n",
            "Epoch 4/20\n",
            "13/13 [==============================] - 0s 9ms/step - loss: 0.4701 - Accuracy: 0.7900 - val_loss: 0.5233 - val_Accuracy: 0.7750\n",
            "Epoch 5/20\n",
            "13/13 [==============================] - 0s 7ms/step - loss: 0.4237 - Accuracy: 0.8537 - val_loss: 0.4800 - val_Accuracy: 0.8400\n",
            "Epoch 6/20\n",
            "13/13 [==============================] - 0s 8ms/step - loss: 0.3875 - Accuracy: 0.8838 - val_loss: 0.4452 - val_Accuracy: 0.8450\n",
            "Epoch 7/20\n",
            "13/13 [==============================] - 0s 7ms/step - loss: 0.3581 - Accuracy: 0.9062 - val_loss: 0.4179 - val_Accuracy: 0.8650\n",
            "Epoch 8/20\n",
            "13/13 [==============================] - 0s 8ms/step - loss: 0.3346 - Accuracy: 0.9175 - val_loss: 0.3953 - val_Accuracy: 0.8850\n",
            "Epoch 9/20\n",
            "13/13 [==============================] - 0s 7ms/step - loss: 0.3149 - Accuracy: 0.9250 - val_loss: 0.3758 - val_Accuracy: 0.8850\n",
            "Epoch 10/20\n",
            "13/13 [==============================] - 0s 9ms/step - loss: 0.2976 - Accuracy: 0.9300 - val_loss: 0.3612 - val_Accuracy: 0.8850\n",
            "Epoch 11/20\n",
            "13/13 [==============================] - 0s 8ms/step - loss: 0.2832 - Accuracy: 0.9300 - val_loss: 0.3464 - val_Accuracy: 0.8850\n",
            "Epoch 12/20\n",
            "13/13 [==============================] - 0s 8ms/step - loss: 0.2702 - Accuracy: 0.9325 - val_loss: 0.3349 - val_Accuracy: 0.8850\n",
            "Epoch 13/20\n",
            "13/13 [==============================] - 0s 9ms/step - loss: 0.2592 - Accuracy: 0.9375 - val_loss: 0.3247 - val_Accuracy: 0.9000\n",
            "Epoch 14/20\n",
            "13/13 [==============================] - 0s 8ms/step - loss: 0.2490 - Accuracy: 0.9413 - val_loss: 0.3145 - val_Accuracy: 0.9000\n",
            "Epoch 15/20\n",
            "13/13 [==============================] - 0s 8ms/step - loss: 0.2401 - Accuracy: 0.9425 - val_loss: 0.3056 - val_Accuracy: 0.9050\n",
            "Epoch 16/20\n",
            "13/13 [==============================] - 0s 9ms/step - loss: 0.2322 - Accuracy: 0.9450 - val_loss: 0.2992 - val_Accuracy: 0.9100\n",
            "Epoch 17/20\n",
            "13/13 [==============================] - 0s 7ms/step - loss: 0.2247 - Accuracy: 0.9438 - val_loss: 0.2913 - val_Accuracy: 0.9100\n",
            "Epoch 18/20\n",
            "13/13 [==============================] - 0s 8ms/step - loss: 0.2183 - Accuracy: 0.9438 - val_loss: 0.2850 - val_Accuracy: 0.9150\n",
            "Epoch 19/20\n",
            "13/13 [==============================] - 0s 6ms/step - loss: 0.2123 - Accuracy: 0.9450 - val_loss: 0.2812 - val_Accuracy: 0.9150\n",
            "Epoch 20/20\n",
            "13/13 [==============================] - 0s 6ms/step - loss: 0.2071 - Accuracy: 0.9438 - val_loss: 0.2746 - val_Accuracy: 0.9150\n",
            "7/7 [==============================] - 0s 2ms/step\n"
          ]
        }
      ]
    },
    {
      "cell_type": "code",
      "source": [
        "acc_total"
      ],
      "metadata": {
        "colab": {
          "base_uri": "https://localhost:8080/"
        },
        "id": "hK_fC3nGHD2K",
        "outputId": "82308694-b082-445d-d22c-d8357aa5a2d4"
      },
      "execution_count": 28,
      "outputs": [
        {
          "output_type": "execute_result",
          "data": {
            "text/plain": [
              "[0.945, 0.895, 0.95, 0.905, 0.915]"
            ]
          },
          "metadata": {},
          "execution_count": 28
        }
      ]
    },
    {
      "cell_type": "code",
      "source": [
        "X_train[0]"
      ],
      "metadata": {
        "colab": {
          "base_uri": "https://localhost:8080/"
        },
        "id": "m3-FYEs_XhVm",
        "outputId": "f9c1eab8-3571-4ff3-c267-0edb40e2f38b"
      },
      "execution_count": 29,
      "outputs": [
        {
          "output_type": "execute_result",
          "data": {
            "text/plain": [
              "array([-2.69676861,  0.74564836, -1.67641125,  2.69969282, -5.01357815,\n",
              "        3.10557956,  1.30169376,  2.03240389,  2.1138015 ,  0.98205628])"
            ]
          },
          "metadata": {},
          "execution_count": 29
        }
      ]
    },
    {
      "cell_type": "code",
      "source": [
        "X_validation[0]"
      ],
      "metadata": {
        "colab": {
          "base_uri": "https://localhost:8080/"
        },
        "id": "XNMPJxqaXjY6",
        "outputId": "d5ef5e3c-be9e-49d3-c42c-a64e54b53634"
      },
      "execution_count": 30,
      "outputs": [
        {
          "output_type": "execute_result",
          "data": {
            "text/plain": [
              "array([ 0.59748132,  2.03702154,  0.63388218,  2.89010949,  1.30628617,\n",
              "       -0.52502013,  0.19653851, -0.58915931, -0.5775684 , -2.07947151])"
            ]
          },
          "metadata": {},
          "execution_count": 30
        }
      ]
    },
    {
      "cell_type": "code",
      "source": [
        "y_validation[0]"
      ],
      "metadata": {
        "colab": {
          "base_uri": "https://localhost:8080/"
        },
        "id": "X3xwKDvW6DBd",
        "outputId": "2b3794ba-146c-4e83-8a9e-09007afadb05"
      },
      "execution_count": 31,
      "outputs": [
        {
          "output_type": "execute_result",
          "data": {
            "text/plain": [
              "1"
            ]
          },
          "metadata": {},
          "execution_count": 31
        }
      ]
    },
    {
      "cell_type": "code",
      "source": [
        "y_train.shape"
      ],
      "metadata": {
        "colab": {
          "base_uri": "https://localhost:8080/"
        },
        "id": "kXcyn-FuX4SS",
        "outputId": "345a916e-9b02-4cca-8658-ce0f255f9843"
      },
      "execution_count": 32,
      "outputs": [
        {
          "output_type": "execute_result",
          "data": {
            "text/plain": [
              "(800,)"
            ]
          },
          "metadata": {},
          "execution_count": 32
        }
      ]
    },
    {
      "cell_type": "code",
      "source": [
        "X_train.shape"
      ],
      "metadata": {
        "colab": {
          "base_uri": "https://localhost:8080/"
        },
        "id": "gWplXk29YAa2",
        "outputId": "57dfe445-e891-414f-9702-a1ba688b5c90"
      },
      "execution_count": 33,
      "outputs": [
        {
          "output_type": "execute_result",
          "data": {
            "text/plain": [
              "(800, 10)"
            ]
          },
          "metadata": {},
          "execution_count": 33
        }
      ]
    },
    {
      "cell_type": "code",
      "source": [
        "X_validation.shape"
      ],
      "metadata": {
        "colab": {
          "base_uri": "https://localhost:8080/"
        },
        "id": "HC1rc_Yg66le",
        "outputId": "43da7dd9-5a5f-4444-df40-f26857fc7e24"
      },
      "execution_count": 34,
      "outputs": [
        {
          "output_type": "execute_result",
          "data": {
            "text/plain": [
              "(200, 10)"
            ]
          },
          "metadata": {},
          "execution_count": 34
        }
      ]
    },
    {
      "cell_type": "code",
      "source": [
        "y_pred.shape"
      ],
      "metadata": {
        "colab": {
          "base_uri": "https://localhost:8080/"
        },
        "id": "xETw-Mx0AKgC",
        "outputId": "5602ec33-7f57-4fac-c745-8e69ac9446e4"
      },
      "execution_count": 35,
      "outputs": [
        {
          "output_type": "execute_result",
          "data": {
            "text/plain": [
              "(200, 1)"
            ]
          },
          "metadata": {},
          "execution_count": 35
        }
      ]
    },
    {
      "cell_type": "markdown",
      "source": [
        "# Accuracy for all of them 🤩"
      ],
      "metadata": {
        "id": "0atYUevgrxPl"
      }
    },
    {
      "cell_type": "code",
      "source": [
        "import numpy as np\n",
        "np.mean(acc_total)"
      ],
      "metadata": {
        "colab": {
          "base_uri": "https://localhost:8080/"
        },
        "id": "zGnfHW7-rwjM",
        "outputId": "6a1b838d-7bd4-4cf7-e842-a0fba7c60a52"
      },
      "execution_count": 36,
      "outputs": [
        {
          "output_type": "execute_result",
          "data": {
            "text/plain": [
              "0.922"
            ]
          },
          "metadata": {},
          "execution_count": 36
        }
      ]
    },
    {
      "cell_type": "code",
      "source": [],
      "metadata": {
        "id": "bTtQhAFpHbhC"
      },
      "execution_count": 36,
      "outputs": []
    }
  ]
}