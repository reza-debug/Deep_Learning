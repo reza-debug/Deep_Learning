{
  "nbformat": 4,
  "nbformat_minor": 0,
  "metadata": {
    "colab": {
      "provenance": [],
      "gpuType": "T4",
      "authorship_tag": "ABX9TyPg7aKZn/SejCrADp1qVtRz",
      "include_colab_link": true
    },
    "kernelspec": {
      "name": "python3",
      "display_name": "Python 3"
    },
    "language_info": {
      "name": "python"
    },
    "accelerator": "GPU"
  },
  "cells": [
    {
      "cell_type": "markdown",
      "metadata": {
        "id": "view-in-github",
        "colab_type": "text"
      },
      "source": [
        "<a href=\"https://colab.research.google.com/github/reza-debug/Deep_Learning/blob/main/CrossValidation.ipynb\" target=\"_parent\"><img src=\"https://colab.research.google.com/assets/colab-badge.svg\" alt=\"Open In Colab\"/></a>"
      ]
    },
    {
      "cell_type": "markdown",
      "source": [
        "# Data Creation 🍨"
      ],
      "metadata": {
        "id": "k56ZGVEYNMIs"
      }
    },
    {
      "cell_type": "code",
      "source": [
        "from sklearn.datasets import make_classification\n",
        "\n",
        "X,y = make_classification(n_samples=1000, n_features=10, n_informative=8, n_redundant=2, random_state=0, n_classes=2)\n",
        "\n"
      ],
      "metadata": {
        "id": "1XjD8v99Npmh"
      },
      "execution_count": 193,
      "outputs": []
    },
    {
      "cell_type": "code",
      "source": [
        "X[0]"
      ],
      "metadata": {
        "colab": {
          "base_uri": "https://localhost:8080/"
        },
        "id": "Bw_dqMpjVn0q",
        "outputId": "9d2b7989-75a6-44bc-bb87-6ef57a85909e"
      },
      "execution_count": 194,
      "outputs": [
        {
          "output_type": "execute_result",
          "data": {
            "text/plain": [
              "array([ 0.59748132,  2.03702154,  0.63388218,  2.89010949,  1.30628617,\n",
              "       -0.52502013,  0.19653851, -0.58915931, -0.5775684 , -2.07947151])"
            ]
          },
          "metadata": {},
          "execution_count": 194
        }
      ]
    },
    {
      "cell_type": "code",
      "source": [
        "y[0]"
      ],
      "metadata": {
        "colab": {
          "base_uri": "https://localhost:8080/"
        },
        "id": "tEqq0uTXVuq9",
        "outputId": "892c5822-23f0-47cf-9b97-0e9d4c339414"
      },
      "execution_count": 195,
      "outputs": [
        {
          "output_type": "execute_result",
          "data": {
            "text/plain": [
              "1"
            ]
          },
          "metadata": {},
          "execution_count": 195
        }
      ]
    },
    {
      "cell_type": "code",
      "source": [
        "import tensorflow as tf\n",
        "from tensorflow import keras"
      ],
      "metadata": {
        "id": "VyHvhZXkN2zZ"
      },
      "execution_count": 196,
      "outputs": []
    },
    {
      "cell_type": "markdown",
      "source": [
        "## Function for create model 🤭"
      ],
      "metadata": {
        "id": "cRR4q_AzTT_d"
      }
    },
    {
      "cell_type": "code",
      "source": [
        "def create_model():\n",
        "  model = keras.Sequential()\n",
        "  model.add(keras.layers.Dense(units=1, activation='relu'))\n",
        "  model.add(keras.layers.Dense(units=1, activation='sigmoid'))\n",
        "\n",
        "  model.compile(optimizer= 'Adam', loss = tf.losses.binary_crossentropy, metrics= ['Accuracy'])\n",
        "  return model"
      ],
      "metadata": {
        "id": "ftwTIoo1QQBT"
      },
      "execution_count": 197,
      "outputs": []
    },
    {
      "cell_type": "markdown",
      "source": [
        "## Cross Validation 🎷"
      ],
      "metadata": {
        "id": "a2Cavi8VTllk"
      }
    },
    {
      "cell_type": "code",
      "source": [
        "n_split = 5\n",
        "#5 fold made by stratifiedFold\n",
        "from sklearn.model_selection import StratifiedKFold\n",
        "from sklearn.metrics import accuracy_score\n",
        "\n",
        "kf = StratifiedKFold( n_splits = n_split, shuffle=True )\n"
      ],
      "metadata": {
        "id": "QSDxQlCiTOxB"
      },
      "execution_count": 198,
      "outputs": []
    },
    {
      "cell_type": "code",
      "source": [
        "#save all of acc from each fold\n",
        "#the best will be in mean of acc_total\n",
        "acc_total = []"
      ],
      "metadata": {
        "id": "pXCLK8zCUtf5"
      },
      "execution_count": 199,
      "outputs": []
    },
    {
      "cell_type": "code",
      "source": [
        "kf"
      ],
      "metadata": {
        "colab": {
          "base_uri": "https://localhost:8080/"
        },
        "id": "orpkXbixXp9y",
        "outputId": "d5bdfc7d-1191-4317-8960-60e9d973ce5c"
      },
      "execution_count": 200,
      "outputs": [
        {
          "output_type": "execute_result",
          "data": {
            "text/plain": [
              "StratifiedKFold(n_splits=5, random_state=None, shuffle=True)"
            ]
          },
          "metadata": {},
          "execution_count": 200
        }
      ]
    },
    {
      "cell_type": "code",
      "source": [
        "for train_index, validation_index in kf.split(X,y):\n",
        "  X_train = X[ train_index ]\n",
        "  y_train = y[ train_index ]\n",
        "\n",
        "  X_validation = X[ validation_index ]\n",
        "  y_validation = y[ validation_index ]\n",
        "  #5bar ba flot dar makanhaye mokhtalef hesab mishavad\n",
        "  model = create_model()\n",
        "  model.fit( X_train, y_train, epochs=20 , batch_size=64, validation_data = ( X_validation, y_validation ), verbose= 1 )\n",
        "  #verbose for show info (0,1,2)\n",
        "\n",
        "  y_pred = model.predict(X_validation)\n",
        "  #change float to int\n",
        "  y_pred = (y_pred > 0.5).astype(\"int32\")\n",
        "\n",
        "  #all of acc in one list\n",
        "  acc = accuracy_score( y_true= y_validation, y_pred= y_pred )\n",
        "  acc_total.append(acc)\n",
        "\n",
        "\n"
      ],
      "metadata": {
        "colab": {
          "base_uri": "https://localhost:8080/"
        },
        "id": "C73kOkd1VFGu",
        "outputId": "f5f4a376-2d0f-4010-e253-18daaf2cb128"
      },
      "execution_count": 201,
      "outputs": [
        {
          "output_type": "stream",
          "name": "stdout",
          "text": [
            "Epoch 1/20\n",
            "13/13 [==============================] - 1s 17ms/step - loss: 1.1447 - Accuracy: 0.5512 - val_loss: 1.0626 - val_Accuracy: 0.5600\n",
            "Epoch 2/20\n",
            "13/13 [==============================] - 0s 5ms/step - loss: 1.1047 - Accuracy: 0.5700 - val_loss: 1.0274 - val_Accuracy: 0.5700\n",
            "Epoch 3/20\n",
            "13/13 [==============================] - 0s 7ms/step - loss: 1.0684 - Accuracy: 0.5750 - val_loss: 0.9937 - val_Accuracy: 0.5950\n",
            "Epoch 4/20\n",
            "13/13 [==============================] - 0s 7ms/step - loss: 1.0343 - Accuracy: 0.5863 - val_loss: 0.9633 - val_Accuracy: 0.6050\n",
            "Epoch 5/20\n",
            "13/13 [==============================] - 0s 6ms/step - loss: 1.0014 - Accuracy: 0.5950 - val_loss: 0.9357 - val_Accuracy: 0.6050\n",
            "Epoch 6/20\n",
            "13/13 [==============================] - 0s 6ms/step - loss: 0.9708 - Accuracy: 0.6037 - val_loss: 0.9097 - val_Accuracy: 0.6150\n",
            "Epoch 7/20\n",
            "13/13 [==============================] - 0s 5ms/step - loss: 0.9440 - Accuracy: 0.6162 - val_loss: 0.8836 - val_Accuracy: 0.6250\n",
            "Epoch 8/20\n",
            "13/13 [==============================] - 0s 6ms/step - loss: 0.9172 - Accuracy: 0.6225 - val_loss: 0.8611 - val_Accuracy: 0.6350\n",
            "Epoch 9/20\n",
            "13/13 [==============================] - 0s 6ms/step - loss: 0.8928 - Accuracy: 0.6363 - val_loss: 0.8406 - val_Accuracy: 0.6550\n",
            "Epoch 10/20\n",
            "13/13 [==============================] - 0s 6ms/step - loss: 0.8709 - Accuracy: 0.6425 - val_loss: 0.8207 - val_Accuracy: 0.6650\n",
            "Epoch 11/20\n",
            "13/13 [==============================] - 0s 6ms/step - loss: 0.8498 - Accuracy: 0.6475 - val_loss: 0.8029 - val_Accuracy: 0.6650\n",
            "Epoch 12/20\n",
            "13/13 [==============================] - 0s 7ms/step - loss: 0.8302 - Accuracy: 0.6600 - val_loss: 0.7856 - val_Accuracy: 0.6700\n",
            "Epoch 13/20\n",
            "13/13 [==============================] - 0s 6ms/step - loss: 0.8111 - Accuracy: 0.6687 - val_loss: 0.7705 - val_Accuracy: 0.6800\n",
            "Epoch 14/20\n",
            "13/13 [==============================] - 0s 7ms/step - loss: 0.7943 - Accuracy: 0.6737 - val_loss: 0.7554 - val_Accuracy: 0.6800\n",
            "Epoch 15/20\n",
            "13/13 [==============================] - 0s 6ms/step - loss: 0.7778 - Accuracy: 0.6812 - val_loss: 0.7412 - val_Accuracy: 0.6950\n",
            "Epoch 16/20\n",
            "13/13 [==============================] - 0s 7ms/step - loss: 0.7627 - Accuracy: 0.6913 - val_loss: 0.7271 - val_Accuracy: 0.7000\n",
            "Epoch 17/20\n",
            "13/13 [==============================] - 0s 6ms/step - loss: 0.7474 - Accuracy: 0.7000 - val_loss: 0.7148 - val_Accuracy: 0.7050\n",
            "Epoch 18/20\n",
            "13/13 [==============================] - 0s 6ms/step - loss: 0.7337 - Accuracy: 0.7088 - val_loss: 0.7028 - val_Accuracy: 0.7100\n",
            "Epoch 19/20\n",
            "13/13 [==============================] - 0s 6ms/step - loss: 0.7211 - Accuracy: 0.7188 - val_loss: 0.6910 - val_Accuracy: 0.7150\n",
            "Epoch 20/20\n",
            "13/13 [==============================] - 0s 5ms/step - loss: 0.7085 - Accuracy: 0.7262 - val_loss: 0.6804 - val_Accuracy: 0.7150\n",
            "7/7 [==============================] - 0s 2ms/step\n",
            "Epoch 1/20\n",
            "13/13 [==============================] - 1s 60ms/step - loss: 0.7029 - Accuracy: 0.6075 - val_loss: 0.6740 - val_Accuracy: 0.6500\n",
            "Epoch 2/20\n",
            "13/13 [==============================] - 0s 6ms/step - loss: 0.6926 - Accuracy: 0.6175 - val_loss: 0.6651 - val_Accuracy: 0.6500\n",
            "Epoch 3/20\n",
            "13/13 [==============================] - 0s 6ms/step - loss: 0.6837 - Accuracy: 0.6263 - val_loss: 0.6564 - val_Accuracy: 0.6500\n",
            "Epoch 4/20\n",
            "13/13 [==============================] - 0s 6ms/step - loss: 0.6757 - Accuracy: 0.6338 - val_loss: 0.6487 - val_Accuracy: 0.6600\n",
            "Epoch 5/20\n",
            "13/13 [==============================] - 0s 7ms/step - loss: 0.6683 - Accuracy: 0.6375 - val_loss: 0.6418 - val_Accuracy: 0.6600\n",
            "Epoch 6/20\n",
            "13/13 [==============================] - 0s 6ms/step - loss: 0.6616 - Accuracy: 0.6350 - val_loss: 0.6357 - val_Accuracy: 0.6600\n",
            "Epoch 7/20\n",
            "13/13 [==============================] - 0s 8ms/step - loss: 0.6562 - Accuracy: 0.6425 - val_loss: 0.6296 - val_Accuracy: 0.6600\n",
            "Epoch 8/20\n",
            "13/13 [==============================] - 0s 8ms/step - loss: 0.6501 - Accuracy: 0.6463 - val_loss: 0.6242 - val_Accuracy: 0.6650\n",
            "Epoch 9/20\n",
            "13/13 [==============================] - 0s 6ms/step - loss: 0.6449 - Accuracy: 0.6538 - val_loss: 0.6188 - val_Accuracy: 0.6700\n",
            "Epoch 10/20\n",
            "13/13 [==============================] - 0s 6ms/step - loss: 0.6398 - Accuracy: 0.6587 - val_loss: 0.6134 - val_Accuracy: 0.6800\n",
            "Epoch 11/20\n",
            "13/13 [==============================] - 0s 7ms/step - loss: 0.6346 - Accuracy: 0.6650 - val_loss: 0.6081 - val_Accuracy: 0.6900\n",
            "Epoch 12/20\n",
            "13/13 [==============================] - 0s 6ms/step - loss: 0.6296 - Accuracy: 0.6775 - val_loss: 0.6028 - val_Accuracy: 0.6950\n",
            "Epoch 13/20\n",
            "13/13 [==============================] - 0s 6ms/step - loss: 0.6246 - Accuracy: 0.6850 - val_loss: 0.5974 - val_Accuracy: 0.7100\n",
            "Epoch 14/20\n",
            "13/13 [==============================] - 0s 6ms/step - loss: 0.6194 - Accuracy: 0.6925 - val_loss: 0.5918 - val_Accuracy: 0.7150\n",
            "Epoch 15/20\n",
            "13/13 [==============================] - 0s 6ms/step - loss: 0.6141 - Accuracy: 0.6950 - val_loss: 0.5860 - val_Accuracy: 0.7200\n",
            "Epoch 16/20\n",
            "13/13 [==============================] - 0s 7ms/step - loss: 0.6086 - Accuracy: 0.6988 - val_loss: 0.5796 - val_Accuracy: 0.7350\n",
            "Epoch 17/20\n",
            "13/13 [==============================] - 0s 7ms/step - loss: 0.6026 - Accuracy: 0.7100 - val_loss: 0.5732 - val_Accuracy: 0.7450\n",
            "Epoch 18/20\n",
            "13/13 [==============================] - 0s 7ms/step - loss: 0.5967 - Accuracy: 0.7200 - val_loss: 0.5665 - val_Accuracy: 0.7550\n",
            "Epoch 19/20\n",
            "13/13 [==============================] - 0s 6ms/step - loss: 0.5902 - Accuracy: 0.7275 - val_loss: 0.5597 - val_Accuracy: 0.7600\n",
            "Epoch 20/20\n",
            "13/13 [==============================] - 0s 6ms/step - loss: 0.5838 - Accuracy: 0.7350 - val_loss: 0.5529 - val_Accuracy: 0.7750\n",
            "7/7 [==============================] - 0s 2ms/step\n",
            "Epoch 1/20\n",
            "13/13 [==============================] - 1s 18ms/step - loss: 0.9145 - Accuracy: 0.5638 - val_loss: 0.9183 - val_Accuracy: 0.5600\n",
            "Epoch 2/20\n",
            "13/13 [==============================] - 0s 6ms/step - loss: 0.8834 - Accuracy: 0.5813 - val_loss: 0.8840 - val_Accuracy: 0.5850\n",
            "Epoch 3/20\n",
            "13/13 [==============================] - 0s 6ms/step - loss: 0.8559 - Accuracy: 0.5938 - val_loss: 0.8534 - val_Accuracy: 0.6050\n",
            "Epoch 4/20\n",
            "13/13 [==============================] - 0s 7ms/step - loss: 0.8313 - Accuracy: 0.6025 - val_loss: 0.8257 - val_Accuracy: 0.6150\n",
            "Epoch 5/20\n",
            "13/13 [==============================] - 0s 6ms/step - loss: 0.8089 - Accuracy: 0.6162 - val_loss: 0.8005 - val_Accuracy: 0.6300\n",
            "Epoch 6/20\n",
            "13/13 [==============================] - 0s 6ms/step - loss: 0.7875 - Accuracy: 0.6300 - val_loss: 0.7780 - val_Accuracy: 0.6300\n",
            "Epoch 7/20\n",
            "13/13 [==============================] - 0s 6ms/step - loss: 0.7686 - Accuracy: 0.6450 - val_loss: 0.7557 - val_Accuracy: 0.6350\n",
            "Epoch 8/20\n",
            "13/13 [==============================] - 0s 7ms/step - loss: 0.7495 - Accuracy: 0.6612 - val_loss: 0.7348 - val_Accuracy: 0.6500\n",
            "Epoch 9/20\n",
            "13/13 [==============================] - 0s 7ms/step - loss: 0.7312 - Accuracy: 0.6650 - val_loss: 0.7168 - val_Accuracy: 0.6500\n",
            "Epoch 10/20\n",
            "13/13 [==============================] - 0s 6ms/step - loss: 0.7147 - Accuracy: 0.6800 - val_loss: 0.6988 - val_Accuracy: 0.6650\n",
            "Epoch 11/20\n",
            "13/13 [==============================] - 0s 6ms/step - loss: 0.6995 - Accuracy: 0.6875 - val_loss: 0.6819 - val_Accuracy: 0.6750\n",
            "Epoch 12/20\n",
            "13/13 [==============================] - 0s 6ms/step - loss: 0.6851 - Accuracy: 0.6925 - val_loss: 0.6670 - val_Accuracy: 0.6850\n",
            "Epoch 13/20\n",
            "13/13 [==============================] - 0s 7ms/step - loss: 0.6718 - Accuracy: 0.7013 - val_loss: 0.6531 - val_Accuracy: 0.6900\n",
            "Epoch 14/20\n",
            "13/13 [==============================] - 0s 6ms/step - loss: 0.6593 - Accuracy: 0.7100 - val_loss: 0.6402 - val_Accuracy: 0.7050\n",
            "Epoch 15/20\n",
            "13/13 [==============================] - 0s 6ms/step - loss: 0.6480 - Accuracy: 0.7175 - val_loss: 0.6288 - val_Accuracy: 0.7100\n",
            "Epoch 16/20\n",
            "13/13 [==============================] - 0s 6ms/step - loss: 0.6364 - Accuracy: 0.7200 - val_loss: 0.6189 - val_Accuracy: 0.7100\n",
            "Epoch 17/20\n",
            "13/13 [==============================] - 0s 6ms/step - loss: 0.6265 - Accuracy: 0.7250 - val_loss: 0.6083 - val_Accuracy: 0.7150\n",
            "Epoch 18/20\n",
            "13/13 [==============================] - 0s 6ms/step - loss: 0.6163 - Accuracy: 0.7375 - val_loss: 0.5987 - val_Accuracy: 0.7300\n",
            "Epoch 19/20\n",
            "13/13 [==============================] - 0s 7ms/step - loss: 0.6071 - Accuracy: 0.7437 - val_loss: 0.5893 - val_Accuracy: 0.7400\n",
            "Epoch 20/20\n",
            "13/13 [==============================] - 0s 7ms/step - loss: 0.5982 - Accuracy: 0.7462 - val_loss: 0.5809 - val_Accuracy: 0.7450\n",
            "7/7 [==============================] - 0s 2ms/step\n",
            "Epoch 1/20\n",
            "13/13 [==============================] - 1s 18ms/step - loss: 0.8433 - Accuracy: 0.3375 - val_loss: 0.8202 - val_Accuracy: 0.3600\n",
            "Epoch 2/20\n",
            "13/13 [==============================] - 0s 8ms/step - loss: 0.8271 - Accuracy: 0.3425 - val_loss: 0.8047 - val_Accuracy: 0.3800\n",
            "Epoch 3/20\n",
            "13/13 [==============================] - 0s 10ms/step - loss: 0.8121 - Accuracy: 0.3475 - val_loss: 0.7909 - val_Accuracy: 0.3700\n",
            "Epoch 4/20\n",
            "13/13 [==============================] - 0s 10ms/step - loss: 0.7984 - Accuracy: 0.3575 - val_loss: 0.7792 - val_Accuracy: 0.3700\n",
            "Epoch 5/20\n",
            "13/13 [==============================] - 0s 10ms/step - loss: 0.7874 - Accuracy: 0.3562 - val_loss: 0.7679 - val_Accuracy: 0.3750\n",
            "Epoch 6/20\n",
            "13/13 [==============================] - 0s 9ms/step - loss: 0.7763 - Accuracy: 0.3575 - val_loss: 0.7584 - val_Accuracy: 0.3750\n",
            "Epoch 7/20\n",
            "13/13 [==============================] - 0s 10ms/step - loss: 0.7669 - Accuracy: 0.3587 - val_loss: 0.7502 - val_Accuracy: 0.3750\n",
            "Epoch 8/20\n",
            "13/13 [==============================] - 0s 9ms/step - loss: 0.7587 - Accuracy: 0.3600 - val_loss: 0.7426 - val_Accuracy: 0.3700\n",
            "Epoch 9/20\n",
            "13/13 [==============================] - 0s 11ms/step - loss: 0.7513 - Accuracy: 0.3638 - val_loss: 0.7360 - val_Accuracy: 0.3700\n",
            "Epoch 10/20\n",
            "13/13 [==============================] - 0s 9ms/step - loss: 0.7448 - Accuracy: 0.3700 - val_loss: 0.7301 - val_Accuracy: 0.3700\n",
            "Epoch 11/20\n",
            "13/13 [==============================] - 0s 9ms/step - loss: 0.7390 - Accuracy: 0.3700 - val_loss: 0.7249 - val_Accuracy: 0.3750\n",
            "Epoch 12/20\n",
            "13/13 [==============================] - 0s 9ms/step - loss: 0.7337 - Accuracy: 0.3825 - val_loss: 0.7205 - val_Accuracy: 0.3800\n",
            "Epoch 13/20\n",
            "13/13 [==============================] - 0s 10ms/step - loss: 0.7293 - Accuracy: 0.3837 - val_loss: 0.7164 - val_Accuracy: 0.3900\n",
            "Epoch 14/20\n",
            "13/13 [==============================] - 0s 8ms/step - loss: 0.7251 - Accuracy: 0.3950 - val_loss: 0.7130 - val_Accuracy: 0.4000\n",
            "Epoch 15/20\n",
            "13/13 [==============================] - 0s 9ms/step - loss: 0.7216 - Accuracy: 0.3963 - val_loss: 0.7100 - val_Accuracy: 0.4100\n",
            "Epoch 16/20\n",
            "13/13 [==============================] - 0s 9ms/step - loss: 0.7182 - Accuracy: 0.3988 - val_loss: 0.7074 - val_Accuracy: 0.4050\n",
            "Epoch 17/20\n",
            "13/13 [==============================] - 0s 9ms/step - loss: 0.7156 - Accuracy: 0.3975 - val_loss: 0.7050 - val_Accuracy: 0.4150\n",
            "Epoch 18/20\n",
            "13/13 [==============================] - 0s 9ms/step - loss: 0.7129 - Accuracy: 0.3975 - val_loss: 0.7031 - val_Accuracy: 0.4250\n",
            "Epoch 19/20\n",
            "13/13 [==============================] - 0s 9ms/step - loss: 0.7107 - Accuracy: 0.4013 - val_loss: 0.7015 - val_Accuracy: 0.4350\n",
            "Epoch 20/20\n",
            "13/13 [==============================] - 0s 9ms/step - loss: 0.7087 - Accuracy: 0.4075 - val_loss: 0.7001 - val_Accuracy: 0.4450\n",
            "7/7 [==============================] - 0s 3ms/step\n",
            "Epoch 1/20\n",
            "13/13 [==============================] - 1s 17ms/step - loss: 1.0318 - Accuracy: 0.4187 - val_loss: 1.1416 - val_Accuracy: 0.3750\n",
            "Epoch 2/20\n",
            "13/13 [==============================] - 0s 5ms/step - loss: 1.0017 - Accuracy: 0.4225 - val_loss: 1.1057 - val_Accuracy: 0.3800\n",
            "Epoch 3/20\n",
            "13/13 [==============================] - 0s 7ms/step - loss: 0.9747 - Accuracy: 0.4300 - val_loss: 1.0712 - val_Accuracy: 0.4000\n",
            "Epoch 4/20\n",
            "13/13 [==============================] - 0s 6ms/step - loss: 0.9491 - Accuracy: 0.4363 - val_loss: 1.0398 - val_Accuracy: 0.4050\n",
            "Epoch 5/20\n",
            "13/13 [==============================] - 0s 6ms/step - loss: 0.9246 - Accuracy: 0.4387 - val_loss: 1.0111 - val_Accuracy: 0.4100\n",
            "Epoch 6/20\n",
            "13/13 [==============================] - 0s 7ms/step - loss: 0.9031 - Accuracy: 0.4487 - val_loss: 0.9836 - val_Accuracy: 0.4200\n",
            "Epoch 7/20\n",
            "13/13 [==============================] - 0s 7ms/step - loss: 0.8816 - Accuracy: 0.4500 - val_loss: 0.9593 - val_Accuracy: 0.4150\n",
            "Epoch 8/20\n",
            "13/13 [==============================] - 0s 7ms/step - loss: 0.8627 - Accuracy: 0.4563 - val_loss: 0.9349 - val_Accuracy: 0.4200\n",
            "Epoch 9/20\n",
            "13/13 [==============================] - 0s 6ms/step - loss: 0.8436 - Accuracy: 0.4625 - val_loss: 0.9127 - val_Accuracy: 0.4300\n",
            "Epoch 10/20\n",
            "13/13 [==============================] - 0s 6ms/step - loss: 0.8265 - Accuracy: 0.4775 - val_loss: 0.8918 - val_Accuracy: 0.4200\n",
            "Epoch 11/20\n",
            "13/13 [==============================] - 0s 6ms/step - loss: 0.8094 - Accuracy: 0.4900 - val_loss: 0.8721 - val_Accuracy: 0.4300\n",
            "Epoch 12/20\n",
            "13/13 [==============================] - 0s 6ms/step - loss: 0.7945 - Accuracy: 0.5050 - val_loss: 0.8527 - val_Accuracy: 0.4450\n",
            "Epoch 13/20\n",
            "13/13 [==============================] - 0s 6ms/step - loss: 0.7800 - Accuracy: 0.5225 - val_loss: 0.8355 - val_Accuracy: 0.4600\n",
            "Epoch 14/20\n",
            "13/13 [==============================] - 0s 6ms/step - loss: 0.7673 - Accuracy: 0.5375 - val_loss: 0.8193 - val_Accuracy: 0.4750\n",
            "Epoch 15/20\n",
            "13/13 [==============================] - 0s 6ms/step - loss: 0.7551 - Accuracy: 0.5450 - val_loss: 0.8049 - val_Accuracy: 0.4800\n",
            "Epoch 16/20\n",
            "13/13 [==============================] - 0s 5ms/step - loss: 0.7447 - Accuracy: 0.5450 - val_loss: 0.7911 - val_Accuracy: 0.4900\n",
            "Epoch 17/20\n",
            "13/13 [==============================] - 0s 7ms/step - loss: 0.7349 - Accuracy: 0.5500 - val_loss: 0.7774 - val_Accuracy: 0.5100\n",
            "Epoch 18/20\n",
            "13/13 [==============================] - 0s 6ms/step - loss: 0.7250 - Accuracy: 0.5537 - val_loss: 0.7641 - val_Accuracy: 0.5300\n",
            "Epoch 19/20\n",
            "13/13 [==============================] - 0s 8ms/step - loss: 0.7155 - Accuracy: 0.5650 - val_loss: 0.7517 - val_Accuracy: 0.5300\n",
            "Epoch 20/20\n",
            "13/13 [==============================] - 0s 6ms/step - loss: 0.7065 - Accuracy: 0.5788 - val_loss: 0.7405 - val_Accuracy: 0.5350\n",
            "7/7 [==============================] - 0s 2ms/step\n"
          ]
        }
      ]
    },
    {
      "cell_type": "code",
      "source": [
        "acc_total"
      ],
      "metadata": {
        "colab": {
          "base_uri": "https://localhost:8080/"
        },
        "id": "hK_fC3nGHD2K",
        "outputId": "7874d4cf-e24d-4654-e516-cff3ccd2cd7d"
      },
      "execution_count": 202,
      "outputs": [
        {
          "output_type": "execute_result",
          "data": {
            "text/plain": [
              "[0.715, 0.775, 0.745, 0.445, 0.535]"
            ]
          },
          "metadata": {},
          "execution_count": 202
        }
      ]
    },
    {
      "cell_type": "code",
      "source": [
        "X_train[0]"
      ],
      "metadata": {
        "colab": {
          "base_uri": "https://localhost:8080/"
        },
        "id": "m3-FYEs_XhVm",
        "outputId": "40fad04a-de79-4fa4-ce3f-c94c5ea45ffa"
      },
      "execution_count": 203,
      "outputs": [
        {
          "output_type": "execute_result",
          "data": {
            "text/plain": [
              "array([ 0.59748132,  2.03702154,  0.63388218,  2.89010949,  1.30628617,\n",
              "       -0.52502013,  0.19653851, -0.58915931, -0.5775684 , -2.07947151])"
            ]
          },
          "metadata": {},
          "execution_count": 203
        }
      ]
    },
    {
      "cell_type": "code",
      "source": [
        "X_validation[0]"
      ],
      "metadata": {
        "colab": {
          "base_uri": "https://localhost:8080/"
        },
        "id": "XNMPJxqaXjY6",
        "outputId": "19f0fe94-8cf7-4869-d724-53dae8857b32"
      },
      "execution_count": 204,
      "outputs": [
        {
          "output_type": "execute_result",
          "data": {
            "text/plain": [
              "array([-1.39824804, -2.58030896, -0.04082532,  1.31024751, -1.38100493,\n",
              "        0.52963921, -2.63620481, -3.59222013,  2.57568717,  0.97952144])"
            ]
          },
          "metadata": {},
          "execution_count": 204
        }
      ]
    },
    {
      "cell_type": "code",
      "source": [
        "y_validation[0]"
      ],
      "metadata": {
        "colab": {
          "base_uri": "https://localhost:8080/"
        },
        "id": "X3xwKDvW6DBd",
        "outputId": "3e8357b4-263c-4670-cd15-3a4d29669046"
      },
      "execution_count": 205,
      "outputs": [
        {
          "output_type": "execute_result",
          "data": {
            "text/plain": [
              "1"
            ]
          },
          "metadata": {},
          "execution_count": 205
        }
      ]
    },
    {
      "cell_type": "code",
      "source": [
        "y_train.shape"
      ],
      "metadata": {
        "colab": {
          "base_uri": "https://localhost:8080/"
        },
        "id": "kXcyn-FuX4SS",
        "outputId": "5c125c95-bccb-4651-c3ab-71b653b8dc8f"
      },
      "execution_count": 206,
      "outputs": [
        {
          "output_type": "execute_result",
          "data": {
            "text/plain": [
              "(800,)"
            ]
          },
          "metadata": {},
          "execution_count": 206
        }
      ]
    },
    {
      "cell_type": "code",
      "source": [
        "X_train.shape"
      ],
      "metadata": {
        "colab": {
          "base_uri": "https://localhost:8080/"
        },
        "id": "gWplXk29YAa2",
        "outputId": "2ace1ee1-047d-448e-fce7-07df2b0700fe"
      },
      "execution_count": 207,
      "outputs": [
        {
          "output_type": "execute_result",
          "data": {
            "text/plain": [
              "(800, 10)"
            ]
          },
          "metadata": {},
          "execution_count": 207
        }
      ]
    },
    {
      "cell_type": "code",
      "source": [
        "X_validation.shape"
      ],
      "metadata": {
        "colab": {
          "base_uri": "https://localhost:8080/"
        },
        "id": "HC1rc_Yg66le",
        "outputId": "63ac018d-9066-4662-9f0e-aab0110352a2"
      },
      "execution_count": 208,
      "outputs": [
        {
          "output_type": "execute_result",
          "data": {
            "text/plain": [
              "(200, 10)"
            ]
          },
          "metadata": {},
          "execution_count": 208
        }
      ]
    },
    {
      "cell_type": "code",
      "source": [
        "y_pred.shape"
      ],
      "metadata": {
        "colab": {
          "base_uri": "https://localhost:8080/"
        },
        "id": "xETw-Mx0AKgC",
        "outputId": "db66094a-d303-4fa0-cff2-18542b767c7f"
      },
      "execution_count": 209,
      "outputs": [
        {
          "output_type": "execute_result",
          "data": {
            "text/plain": [
              "(200, 1)"
            ]
          },
          "metadata": {},
          "execution_count": 209
        }
      ]
    },
    {
      "cell_type": "code",
      "source": [],
      "metadata": {
        "id": "bTtQhAFpHbhC"
      },
      "execution_count": 209,
      "outputs": []
    }
  ]
}