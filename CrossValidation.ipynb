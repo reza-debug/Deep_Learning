{
  "nbformat": 4,
  "nbformat_minor": 0,
  "metadata": {
    "colab": {
      "provenance": [],
      "gpuType": "T4",
      "authorship_tag": "ABX9TyNQSt9IneJBOKmlmvj7elDr",
      "include_colab_link": true
    },
    "kernelspec": {
      "name": "python3",
      "display_name": "Python 3"
    },
    "language_info": {
      "name": "python"
    },
    "accelerator": "GPU"
  },
  "cells": [
    {
      "cell_type": "markdown",
      "metadata": {
        "id": "view-in-github",
        "colab_type": "text"
      },
      "source": [
        "<a href=\"https://colab.research.google.com/github/reza-debug/Deep_Learning/blob/main/CrossValidation.ipynb\" target=\"_parent\"><img src=\"https://colab.research.google.com/assets/colab-badge.svg\" alt=\"Open In Colab\"/></a>"
      ]
    },
    {
      "cell_type": "markdown",
      "source": [
        "# Data Creation 🍨"
      ],
      "metadata": {
        "id": "k56ZGVEYNMIs"
      }
    },
    {
      "cell_type": "code",
      "source": [
        "from sklearn.datasets import make_classification\n",
        "\n",
        "X,y = make_classification(n_samples=1000, n_features=10, n_informative=8, n_redundant=2, random_state=0, n_classes=2)\n",
        "\n"
      ],
      "metadata": {
        "id": "1XjD8v99Npmh"
      },
      "execution_count": 4,
      "outputs": []
    },
    {
      "cell_type": "code",
      "source": [
        "X[0]"
      ],
      "metadata": {
        "colab": {
          "base_uri": "https://localhost:8080/"
        },
        "id": "Bw_dqMpjVn0q",
        "outputId": "2d79618a-4322-4793-f92e-e17354390dc5"
      },
      "execution_count": 10,
      "outputs": [
        {
          "output_type": "execute_result",
          "data": {
            "text/plain": [
              "array([ 0.59748132,  2.03702154,  0.63388218,  2.89010949,  1.30628617,\n",
              "       -0.52502013,  0.19653851, -0.58915931, -0.5775684 , -2.07947151])"
            ]
          },
          "metadata": {},
          "execution_count": 10
        }
      ]
    },
    {
      "cell_type": "code",
      "source": [
        "y[0]"
      ],
      "metadata": {
        "colab": {
          "base_uri": "https://localhost:8080/"
        },
        "id": "tEqq0uTXVuq9",
        "outputId": "819fee22-d580-4f8b-f597-b330963bb948"
      },
      "execution_count": 11,
      "outputs": [
        {
          "output_type": "execute_result",
          "data": {
            "text/plain": [
              "1"
            ]
          },
          "metadata": {},
          "execution_count": 11
        }
      ]
    },
    {
      "cell_type": "code",
      "source": [
        "import tensorflow as tf\n",
        "from tensorflow import keras"
      ],
      "metadata": {
        "id": "VyHvhZXkN2zZ"
      },
      "execution_count": 5,
      "outputs": []
    },
    {
      "cell_type": "markdown",
      "source": [
        "## Function for create model 🤭"
      ],
      "metadata": {
        "id": "cRR4q_AzTT_d"
      }
    },
    {
      "cell_type": "code",
      "source": [
        "def create_model():\n",
        "  model = keras.Sequential()\n",
        "  model.add(keras.layers.Dense(units=1, activation='relu'))\n",
        "  model.add(keras.layers.Dense(units=1, activation='sigmoid'))\n",
        "\n",
        "  model.compile(optimizer= 'Adam', loss = tf.losses.binary_crossentropy, metrics= ['Accuracy'])\n",
        "  return model"
      ],
      "metadata": {
        "id": "ftwTIoo1QQBT"
      },
      "execution_count": 6,
      "outputs": []
    },
    {
      "cell_type": "markdown",
      "source": [
        "## Cross Validation 🎷"
      ],
      "metadata": {
        "id": "a2Cavi8VTllk"
      }
    },
    {
      "cell_type": "code",
      "source": [
        "n_split = 5\n",
        "#5 fold made by stratifiedFold\n",
        "from sklearn.model_selection import StratifiedKFold\n",
        "from sklearn.metrics import accuracy_score\n",
        "\n",
        "kf = StratifiedKFold( n_splits=n_split, shuffle=True )\n"
      ],
      "metadata": {
        "id": "QSDxQlCiTOxB"
      },
      "execution_count": 7,
      "outputs": []
    },
    {
      "cell_type": "code",
      "source": [
        "#save all of acc from each fold\n",
        "#the best will be in mean of acc_total\n",
        "acc_total = []"
      ],
      "metadata": {
        "id": "pXCLK8zCUtf5"
      },
      "execution_count": 8,
      "outputs": []
    },
    {
      "cell_type": "code",
      "source": [
        "kf"
      ],
      "metadata": {
        "colab": {
          "base_uri": "https://localhost:8080/"
        },
        "id": "orpkXbixXp9y",
        "outputId": "6e50be5f-1e16-414e-dbe6-07ab9bf026d1"
      },
      "execution_count": 20,
      "outputs": [
        {
          "output_type": "execute_result",
          "data": {
            "text/plain": [
              "StratifiedKFold(n_splits=5, random_state=None, shuffle=True)"
            ]
          },
          "metadata": {},
          "execution_count": 20
        }
      ]
    },
    {
      "cell_type": "code",
      "source": [
        "for train_index, validation_index in kf.split(X,y):\n",
        "  X_train = X[ train_index ]\n",
        "  y_train = y[ train_index ]\n",
        "\n",
        "  X_validation = X[ validation_index ]\n",
        "  y_validation = y[ validation_index ]\n"
      ],
      "metadata": {
        "id": "C73kOkd1VFGu"
      },
      "execution_count": 21,
      "outputs": []
    },
    {
      "cell_type": "code",
      "source": [
        "X_train[0]"
      ],
      "metadata": {
        "colab": {
          "base_uri": "https://localhost:8080/"
        },
        "id": "m3-FYEs_XhVm",
        "outputId": "575dcb08-8921-468b-a79a-9b9f94f5d0b5"
      },
      "execution_count": 19,
      "outputs": [
        {
          "output_type": "execute_result",
          "data": {
            "text/plain": [
              "array([ 0.59748132,  2.03702154,  0.63388218,  2.89010949,  1.30628617,\n",
              "       -0.52502013,  0.19653851, -0.58915931, -0.5775684 , -2.07947151])"
            ]
          },
          "metadata": {},
          "execution_count": 19
        }
      ]
    },
    {
      "cell_type": "code",
      "source": [
        "X_validation[0]"
      ],
      "metadata": {
        "colab": {
          "base_uri": "https://localhost:8080/"
        },
        "id": "XNMPJxqaXjY6",
        "outputId": "9816a1d4-df72-4468-e7f1-03315006eea5"
      },
      "execution_count": 23,
      "outputs": [
        {
          "output_type": "execute_result",
          "data": {
            "text/plain": [
              "array([-0.23299237,  1.22911085,  3.4409557 ,  1.79295895, -2.76256638,\n",
              "       -3.03480131, -0.7260982 ,  0.32869221,  1.33281026,  0.642329  ])"
            ]
          },
          "metadata": {},
          "execution_count": 23
        }
      ]
    },
    {
      "cell_type": "code",
      "source": [
        "y_train[0]"
      ],
      "metadata": {
        "colab": {
          "base_uri": "https://localhost:8080/"
        },
        "id": "kXcyn-FuX4SS",
        "outputId": "94609e77-e104-4ceb-f440-e4b868927935"
      },
      "execution_count": 24,
      "outputs": [
        {
          "output_type": "execute_result",
          "data": {
            "text/plain": [
              "1"
            ]
          },
          "metadata": {},
          "execution_count": 24
        }
      ]
    },
    {
      "cell_type": "code",
      "source": [
        "y_validation[0]"
      ],
      "metadata": {
        "colab": {
          "base_uri": "https://localhost:8080/"
        },
        "id": "gWplXk29YAa2",
        "outputId": "ac24ecbd-5bea-4b34-b6a0-9ded2c316dd2"
      },
      "execution_count": 25,
      "outputs": [
        {
          "output_type": "execute_result",
          "data": {
            "text/plain": [
              "1"
            ]
          },
          "metadata": {},
          "execution_count": 25
        }
      ]
    },
    {
      "cell_type": "markdown",
      "source": [
        "# Model 💠"
      ],
      "metadata": {
        "id": "T9WCXCIdYNyY"
      }
    },
    {
      "cell_type": "code",
      "source": [
        "from re import VERBOSE\n",
        "model = create_model()\n",
        "model.fit( X_train, y_train, epochs=20 , batch_size=64, validation_data = ( X_validation, y_validation ), verbose= 1 )\n",
        "#verbose for show info (0,1,2)"
      ],
      "metadata": {
        "colab": {
          "base_uri": "https://localhost:8080/"
        },
        "id": "j1DrOiybYDmj",
        "outputId": "5a0503a7-760b-4f21-9db7-c760826092d5"
      },
      "execution_count": 32,
      "outputs": [
        {
          "output_type": "stream",
          "name": "stdout",
          "text": [
            "Epoch 1/20\n",
            "13/13 [==============================] - 1s 17ms/step - loss: 0.8353 - Accuracy: 0.6550 - val_loss: 0.8149 - val_Accuracy: 0.6450\n",
            "Epoch 2/20\n",
            "13/13 [==============================] - 0s 6ms/step - loss: 0.8039 - Accuracy: 0.6662 - val_loss: 0.7802 - val_Accuracy: 0.6550\n",
            "Epoch 3/20\n",
            "13/13 [==============================] - 0s 7ms/step - loss: 0.7743 - Accuracy: 0.6762 - val_loss: 0.7490 - val_Accuracy: 0.6600\n",
            "Epoch 4/20\n",
            "13/13 [==============================] - 0s 6ms/step - loss: 0.7476 - Accuracy: 0.6850 - val_loss: 0.7201 - val_Accuracy: 0.6650\n",
            "Epoch 5/20\n",
            "13/13 [==============================] - 0s 6ms/step - loss: 0.7224 - Accuracy: 0.7000 - val_loss: 0.6941 - val_Accuracy: 0.6700\n",
            "Epoch 6/20\n",
            "13/13 [==============================] - 0s 5ms/step - loss: 0.7003 - Accuracy: 0.7088 - val_loss: 0.6711 - val_Accuracy: 0.6750\n",
            "Epoch 7/20\n",
            "13/13 [==============================] - 0s 7ms/step - loss: 0.6805 - Accuracy: 0.7200 - val_loss: 0.6510 - val_Accuracy: 0.6800\n",
            "Epoch 8/20\n",
            "13/13 [==============================] - 0s 6ms/step - loss: 0.6643 - Accuracy: 0.7262 - val_loss: 0.6339 - val_Accuracy: 0.6900\n",
            "Epoch 9/20\n",
            "13/13 [==============================] - 0s 7ms/step - loss: 0.6499 - Accuracy: 0.7300 - val_loss: 0.6186 - val_Accuracy: 0.7050\n",
            "Epoch 10/20\n",
            "13/13 [==============================] - 0s 6ms/step - loss: 0.6377 - Accuracy: 0.7362 - val_loss: 0.6043 - val_Accuracy: 0.7450\n",
            "Epoch 11/20\n",
            "13/13 [==============================] - 0s 6ms/step - loss: 0.6257 - Accuracy: 0.7437 - val_loss: 0.5929 - val_Accuracy: 0.7400\n",
            "Epoch 12/20\n",
            "13/13 [==============================] - 0s 5ms/step - loss: 0.6150 - Accuracy: 0.7475 - val_loss: 0.5828 - val_Accuracy: 0.7450\n",
            "Epoch 13/20\n",
            "13/13 [==============================] - 0s 6ms/step - loss: 0.6050 - Accuracy: 0.7575 - val_loss: 0.5731 - val_Accuracy: 0.7500\n",
            "Epoch 14/20\n",
            "13/13 [==============================] - 0s 5ms/step - loss: 0.5956 - Accuracy: 0.7600 - val_loss: 0.5641 - val_Accuracy: 0.7500\n",
            "Epoch 15/20\n",
            "13/13 [==============================] - 0s 6ms/step - loss: 0.5871 - Accuracy: 0.7675 - val_loss: 0.5555 - val_Accuracy: 0.7550\n",
            "Epoch 16/20\n",
            "13/13 [==============================] - 0s 6ms/step - loss: 0.5792 - Accuracy: 0.7713 - val_loss: 0.5478 - val_Accuracy: 0.7600\n",
            "Epoch 17/20\n",
            "13/13 [==============================] - 0s 9ms/step - loss: 0.5722 - Accuracy: 0.7738 - val_loss: 0.5404 - val_Accuracy: 0.7650\n",
            "Epoch 18/20\n",
            "13/13 [==============================] - 0s 9ms/step - loss: 0.5657 - Accuracy: 0.7750 - val_loss: 0.5330 - val_Accuracy: 0.7700\n",
            "Epoch 19/20\n",
            "13/13 [==============================] - 0s 8ms/step - loss: 0.5586 - Accuracy: 0.7800 - val_loss: 0.5267 - val_Accuracy: 0.7750\n",
            "Epoch 20/20\n",
            "13/13 [==============================] - 0s 10ms/step - loss: 0.5527 - Accuracy: 0.7837 - val_loss: 0.5203 - val_Accuracy: 0.7750\n"
          ]
        },
        {
          "output_type": "execute_result",
          "data": {
            "text/plain": [
              "<keras.src.callbacks.History at 0x7ac8d7b662c0>"
            ]
          },
          "metadata": {},
          "execution_count": 32
        }
      ]
    },
    {
      "cell_type": "markdown",
      "source": [
        "# Prediction ♒"
      ],
      "metadata": {
        "id": "_ESj9y3OaCE0"
      }
    },
    {
      "cell_type": "code",
      "source": [
        "y_pred = model.predict(X_validation)\n",
        "y_pred"
      ],
      "metadata": {
        "colab": {
          "base_uri": "https://localhost:8080/"
        },
        "id": "Fb33YmoLZRUv",
        "outputId": "b92289e0-f950-4f8f-a63f-ebfe0c44ea94"
      },
      "execution_count": 33,
      "outputs": [
        {
          "output_type": "stream",
          "name": "stdout",
          "text": [
            "7/7 [==============================] - 0s 2ms/step\n"
          ]
        },
        {
          "output_type": "execute_result",
          "data": {
            "text/plain": [
              "array([[0.64896137],\n",
              "       [0.95295113],\n",
              "       [0.4443584 ],\n",
              "       [0.98353505],\n",
              "       [0.5158197 ],\n",
              "       [0.90888494],\n",
              "       [0.99999726],\n",
              "       [0.4443584 ],\n",
              "       [0.4443584 ],\n",
              "       [0.4443584 ],\n",
              "       [0.4443584 ],\n",
              "       [0.9998056 ],\n",
              "       [0.4443584 ],\n",
              "       [0.4443584 ],\n",
              "       [0.4443584 ],\n",
              "       [0.4443584 ],\n",
              "       [0.99350053],\n",
              "       [0.99689317],\n",
              "       [0.4443584 ],\n",
              "       [0.4443584 ],\n",
              "       [0.9964515 ],\n",
              "       [0.4443584 ],\n",
              "       [0.5960435 ],\n",
              "       [0.4443584 ],\n",
              "       [0.4443584 ],\n",
              "       [0.4443584 ],\n",
              "       [0.6662618 ],\n",
              "       [0.4443584 ],\n",
              "       [0.4443584 ],\n",
              "       [0.98881793],\n",
              "       [0.937203  ],\n",
              "       [0.9487888 ],\n",
              "       [0.9357537 ],\n",
              "       [0.4443584 ],\n",
              "       [0.4486299 ],\n",
              "       [0.4443584 ],\n",
              "       [0.4443584 ],\n",
              "       [0.4443584 ],\n",
              "       [0.4443584 ],\n",
              "       [0.95363736],\n",
              "       [0.4443584 ],\n",
              "       [0.8690925 ],\n",
              "       [0.9435234 ],\n",
              "       [0.9042956 ],\n",
              "       [0.4443584 ],\n",
              "       [0.6680216 ],\n",
              "       [0.4443584 ],\n",
              "       [0.4443584 ],\n",
              "       [0.99862564],\n",
              "       [0.9995623 ],\n",
              "       [0.8790568 ],\n",
              "       [0.47433966],\n",
              "       [0.4443584 ],\n",
              "       [0.4443584 ],\n",
              "       [0.4443584 ],\n",
              "       [0.4443584 ],\n",
              "       [0.9474713 ],\n",
              "       [0.9924711 ],\n",
              "       [0.4443584 ],\n",
              "       [0.4443584 ],\n",
              "       [0.4443584 ],\n",
              "       [0.4443584 ],\n",
              "       [0.4443584 ],\n",
              "       [0.99915123],\n",
              "       [0.4443584 ],\n",
              "       [0.8446072 ],\n",
              "       [0.4443584 ],\n",
              "       [0.4443584 ],\n",
              "       [0.9289815 ],\n",
              "       [0.6845423 ],\n",
              "       [0.4443584 ],\n",
              "       [0.4443584 ],\n",
              "       [0.4443584 ],\n",
              "       [0.4443584 ],\n",
              "       [0.6730471 ],\n",
              "       [0.48629895],\n",
              "       [0.8840117 ],\n",
              "       [0.4443584 ],\n",
              "       [0.89624506],\n",
              "       [0.7378934 ],\n",
              "       [0.4443584 ],\n",
              "       [0.7239432 ],\n",
              "       [0.9589113 ],\n",
              "       [0.67499477],\n",
              "       [0.70510226],\n",
              "       [0.9996019 ],\n",
              "       [0.81679964],\n",
              "       [0.4443584 ],\n",
              "       [0.4443584 ],\n",
              "       [0.9998981 ],\n",
              "       [0.4443584 ],\n",
              "       [0.4443584 ],\n",
              "       [0.4443584 ],\n",
              "       [0.4443584 ],\n",
              "       [0.4443584 ],\n",
              "       [0.4443584 ],\n",
              "       [0.4443584 ],\n",
              "       [0.4443584 ],\n",
              "       [0.4443584 ],\n",
              "       [0.76906115],\n",
              "       [0.4443584 ],\n",
              "       [0.4443584 ],\n",
              "       [0.77195615],\n",
              "       [0.5134569 ],\n",
              "       [0.4443584 ],\n",
              "       [0.99960274],\n",
              "       [0.4443584 ],\n",
              "       [0.99377525],\n",
              "       [0.4443584 ],\n",
              "       [0.4443584 ],\n",
              "       [0.7998305 ],\n",
              "       [0.99158365],\n",
              "       [0.8992791 ],\n",
              "       [0.4443584 ],\n",
              "       [0.67008436],\n",
              "       [0.5022167 ],\n",
              "       [0.55492383],\n",
              "       [0.7969805 ],\n",
              "       [0.4443584 ],\n",
              "       [0.4443584 ],\n",
              "       [0.4443584 ],\n",
              "       [0.4443584 ],\n",
              "       [0.4443584 ],\n",
              "       [0.4443584 ],\n",
              "       [0.4443584 ],\n",
              "       [0.4443584 ],\n",
              "       [0.4443584 ],\n",
              "       [0.4443584 ],\n",
              "       [0.4443584 ],\n",
              "       [0.4443584 ],\n",
              "       [0.4443584 ],\n",
              "       [0.4443584 ],\n",
              "       [0.4443584 ],\n",
              "       [0.4443584 ],\n",
              "       [0.5127721 ],\n",
              "       [0.95937586],\n",
              "       [0.4443584 ],\n",
              "       [0.4443584 ],\n",
              "       [0.59740645],\n",
              "       [0.4443584 ],\n",
              "       [0.4443584 ],\n",
              "       [0.99984956],\n",
              "       [0.8452999 ],\n",
              "       [0.999584  ],\n",
              "       [0.4443584 ],\n",
              "       [0.4443584 ],\n",
              "       [0.75907075],\n",
              "       [0.4443584 ],\n",
              "       [0.4443584 ],\n",
              "       [0.62170947],\n",
              "       [0.4443584 ],\n",
              "       [0.4443584 ],\n",
              "       [0.4443584 ],\n",
              "       [0.9782503 ],\n",
              "       [0.9999542 ],\n",
              "       [0.4443584 ],\n",
              "       [0.4443584 ],\n",
              "       [0.99979955],\n",
              "       [0.9957593 ],\n",
              "       [0.99905294],\n",
              "       [0.78133386],\n",
              "       [0.4443584 ],\n",
              "       [0.8700814 ],\n",
              "       [0.9363185 ],\n",
              "       [0.95722514],\n",
              "       [0.4443584 ],\n",
              "       [0.4443584 ],\n",
              "       [0.92433876],\n",
              "       [0.4443584 ],\n",
              "       [0.4443584 ],\n",
              "       [0.4443584 ],\n",
              "       [0.4443584 ],\n",
              "       [0.4443584 ],\n",
              "       [0.9955355 ],\n",
              "       [0.93473756],\n",
              "       [0.4443584 ],\n",
              "       [0.4443584 ],\n",
              "       [0.9998036 ],\n",
              "       [0.4443584 ],\n",
              "       [0.4443584 ],\n",
              "       [0.4443584 ],\n",
              "       [0.4443584 ],\n",
              "       [0.4443584 ],\n",
              "       [0.4443584 ],\n",
              "       [0.61741567],\n",
              "       [0.93759334],\n",
              "       [0.4443584 ],\n",
              "       [0.72067463],\n",
              "       [0.9998068 ],\n",
              "       [0.50541604],\n",
              "       [0.995717  ],\n",
              "       [0.4443584 ],\n",
              "       [0.88664794],\n",
              "       [0.4443584 ],\n",
              "       [0.6980345 ],\n",
              "       [0.4443584 ],\n",
              "       [0.9744995 ],\n",
              "       [0.4443584 ],\n",
              "       [0.9951652 ],\n",
              "       [0.9737809 ]], dtype=float32)"
            ]
          },
          "metadata": {},
          "execution_count": 33
        }
      ]
    },
    {
      "cell_type": "code",
      "source": [],
      "metadata": {
        "id": "JOo-1JC0af9_"
      },
      "execution_count": null,
      "outputs": []
    }
  ]
}